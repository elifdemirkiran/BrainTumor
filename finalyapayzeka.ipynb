{
  "nbformat": 4,
  "nbformat_minor": 0,
  "metadata": {
    "colab": {
      "provenance": []
    },
    "kernelspec": {
      "name": "python3",
      "display_name": "Python 3"
    },
    "language_info": {
      "name": "python"
    }
  },
  "cells": [
    {
      "cell_type": "code",
      "source": [
        "import os\n",
        "import numpy as np\n",
        "import pandas as pd\n",
        "import tensorflow as tf\n",
        "\n",
        "import glob\n",
        "from sklearn.utils import shuffle as shf\n",
        "import seaborn as sns\n",
        "import random\n",
        "import cv2\n",
        "import matplotlib.pyplot as plt\n",
        "from keras.models import Sequential\n",
        "from keras.models import load_model\n",
        "\n",
        "from sklearn.ensemble import RandomForestClassifier\n",
        "\n",
        "from tqdm import tqdm\n",
        "\n",
        "\n",
        "np.random.seed(2023)\n",
        "%matplotlib inline\n",
        "\n",
        "import numpy as np\n",
        "import pandas as pd\n",
        "import seaborn as sns\n",
        "import matplotlib\n",
        "import matplotlib.pyplot as plt\n",
        "import plotly\n",
        "import plotly.express as px\n",
        "import plotly.graph_objs as go\n",
        "from plotly.offline import init_notebook_mode, plot, iplot\n",
        "import cv2\n",
        "import random\n",
        "import os\n",
        "import skimage\n",
        "from skimage.transform import resize\n",
        "from tqdm.notebook import tqdm\n",
        "import albumentations as A\n",
        "import tensorflow as tf\n",
        "from keras.utils import img_to_array, img_to_array, load_img\n",
        "from keras.layers import Conv2D, Flatten, MaxPooling2D, Dense, Dropout , MaxPool2D, BatchNormalization\n",
        "from keras.models import Sequential\n",
        "from keras.preprocessing.image import ImageDataGenerator\n",
        "from keras.applications.vgg16 import VGG16\n",
        "from mlxtend.plotting import plot_confusion_matrix\n",
        "from sklearn.metrics import classification_report,roc_auc_score, roc_curve,confusion_matrix,accuracy_score,auc\n",
        "from keras.callbacks import ReduceLROnPlateau, ModelCheckpoint\n",
        "from sklearn.model_selection import train_test_split, learning_curve,KFold,cross_val_score,StratifiedKFold\n",
        "\n",
        "from sklearn.neighbors import KNeighborsClassifier\n",
        "from sklearn.linear_model import LogisticRegression\n",
        "from sklearn.tree import DecisionTreeClassifier\n",
        "from sklearn.ensemble import RandomForestClassifier\n",
        "from sklearn.svm import SVC\n",
        "from sklearn.utils import shuffle as shf\n",
        "\n",
        "from sklearn.metrics import confusion_matrix\n",
        "import seaborn as sns\n",
        "\n",
        "import optparse\n",
        "import matplotlib.pyplot as plt\n",
        "import random\n",
        "import cv2\n",
        "import pandas as pd\n",
        "import numpy as np\n",
        "import skimage\n",
        "from skimage.transform import resize\n",
        "import csv\n",
        "from tqdm import tqdm\n",
        "from sklearn import model_selection\n",
        "from sklearn.model_selection import train_test_split, learning_curve,KFold,cross_val_score,StratifiedKFold\n",
        "import matplotlib.pyplot as plt\n",
        "from sklearn.metrics import confusion_matrix\n",
        "import keras\n"
      ],
      "metadata": {
        "id": "VTDmxkQgRoC3"
      },
      "execution_count": null,
      "outputs": []
    },
    {
      "cell_type": "code",
      "source": [
        "from google.colab import drive\n",
        "drive.mount('/content/drive')"
      ],
      "metadata": {
        "colab": {
          "base_uri": "https://localhost:8080/"
        },
        "id": "-LBddrrbpvoH",
        "outputId": "2550e145-45db-4f18-b029-3b3295de290a"
      },
      "execution_count": null,
      "outputs": [
        {
          "output_type": "stream",
          "name": "stdout",
          "text": [
            "Mounted at /content/drive\n"
          ]
        }
      ]
    },
    {
      "cell_type": "code",
      "source": [
        "path  = '/content/drive/MyDrive/Brain_Tumor_MRI_Dataset'\n",
        "train = path + '/train/'\n",
        "test  = path + '/test/'\n",
        "val = path+'/val/'\n",
        "path,train,test,val"
      ],
      "metadata": {
        "colab": {
          "base_uri": "https://localhost:8080/"
        },
        "id": "nFpSCWOKp2HM",
        "outputId": "cd4b1837-4cf6-4377-8954-ed9e638acb53"
      },
      "execution_count": null,
      "outputs": [
        {
          "output_type": "execute_result",
          "data": {
            "text/plain": [
              "('/content/drive/MyDrive/Brain_Tumor_MRI_Dataset',\n",
              " '/content/drive/MyDrive/Brain_Tumor_MRI_Dataset/train/',\n",
              " '/content/drive/MyDrive/Brain_Tumor_MRI_Dataset/test/',\n",
              " '/content/drive/MyDrive/Brain_Tumor_MRI_Dataset/val/')"
            ]
          },
          "metadata": {},
          "execution_count": 3
        }
      ]
    },
    {
      "cell_type": "markdown",
      "source": [
        "Data Generator"
      ],
      "metadata": {
        "id": "6MC4TSuJqw0Y"
      }
    },
    {
      "cell_type": "code",
      "source": [
        "from keras.preprocessing.image import ImageDataGenerator\n",
        "\n",
        "train_datagen = ImageDataGenerator(zoom_range = 0.3,\n",
        "                                   horizontal_flip = True\n",
        "                                   )\n",
        "test_datagen = ImageDataGenerator()"
      ],
      "metadata": {
        "id": "X2xnFrisqnHJ"
      },
      "execution_count": null,
      "outputs": []
    },
    {
      "cell_type": "code",
      "source": [
        "train_gen = train_datagen.flow_from_directory(\n",
        "                            directory = train,\n",
        "                            target_size = (160, 160),\n",
        "                            batch_size = 16,\n",
        "                            class_mode = 'categorical',\n",
        "                            shuffle=True)\n",
        "\n",
        "test_gen = train_datagen.flow_from_directory(\n",
        "                            directory = test,\n",
        "                            target_size = (160, 160),\n",
        "                            batch_size = 16,\n",
        "                            class_mode = 'categorical',\n",
        "                            shuffle=True)"
      ],
      "metadata": {
        "colab": {
          "base_uri": "https://localhost:8080/"
        },
        "id": "ltApSCUkq29h",
        "outputId": "c941c57b-1da9-4e3f-f6ba-59c122286c9c"
      },
      "execution_count": null,
      "outputs": [
        {
          "output_type": "stream",
          "name": "stdout",
          "text": [
            "Found 1359 images belonging to 3 classes.\n",
            "Found 512 images belonging to 3 classes.\n"
          ]
        }
      ]
    },
    {
      "cell_type": "code",
      "source": [
        "train_gen.class_indices"
      ],
      "metadata": {
        "colab": {
          "base_uri": "https://localhost:8080/"
        },
        "id": "JW-L7oJiq_d1",
        "outputId": "5524250a-a81b-42ce-accd-fa833d8b4948"
      },
      "execution_count": null,
      "outputs": [
        {
          "output_type": "execute_result",
          "data": {
            "text/plain": [
              "{'glioma': 0, 'meningioma': 1, 'notumor': 2}"
            ]
          },
          "metadata": {},
          "execution_count": 10
        }
      ]
    },
    {
      "cell_type": "markdown",
      "source": [
        "Learning Rate and Model Checkpoint"
      ],
      "metadata": {
        "id": "HaqF8k1FrFR8"
      }
    },
    {
      "cell_type": "code",
      "source": [
        "from keras.callbacks import ReduceLROnPlateau, ModelCheckpoint\n",
        "\n",
        "lr = ReduceLROnPlateau(monitor='val_loss', factor=0.3, patience=5, verbose=2, mode='max')\n",
        "cp = ModelCheckpoint(filepath='eff_model.{epoch:02d}-{val_loss:.2f}.h5',save_weights_only=True)"
      ],
      "metadata": {
        "id": "ClAj2LvbrBcu"
      },
      "execution_count": null,
      "outputs": []
    },
    {
      "cell_type": "markdown",
      "source": [
        "MODEL: EfficientNetB5"
      ],
      "metadata": {
        "id": "bn4sa8kOrQnI"
      }
    },
    {
      "cell_type": "code",
      "source": [
        "from keras.applications.efficientnet import EfficientNetB5\n",
        "\n",
        "from keras import layers\n",
        "from keras.models import Sequential\n",
        "\n",
        "model_EffNetB5_1101 = Sequential()\n",
        "model_EffNetB5_1101.add(EfficientNetB5(weights='imagenet',include_top=False, input_shape=(160,160,3)))\n",
        "model_EffNetB5_1101.add(layers.GlobalAveragePooling2D())\n",
        "model_EffNetB5_1101.add(layers.Dropout(0.5))\n",
        "model_EffNetB5_1101.add(layers.Dense(3,activation = 'softmax'))\n",
        "\n",
        "model_EffNetB5_1101.compile(optimizer='adam', loss='categorical_crossentropy', metrics= ['accuracy'])"
      ],
      "metadata": {
        "id": "JWdZbW7NrV3R"
      },
      "execution_count": null,
      "outputs": []
    },
    {
      "cell_type": "code",
      "source": [
        "history_eff = model_EffNetB5_1101.fit(\n",
        "           train_gen, steps_per_epoch=train_gen.samples/32,\n",
        "           epochs=4,\n",
        "           validation_data=test_gen,\n",
        "           validation_steps=test_gen.samples // 32,\n",
        "           callbacks=[lr, cp],\n",
        "           verbose=1)\n",
        "model_EffNetB5_1101.save(\"/content/drive/MyDrive/Brain_Tumor_MRI_Dataset/modelEffNetB5.h5\")\n",
        "readyModelEff=load_model('/content/drive/MyDrive/Brain_Tumor_MRI_Dataset/modelEffNetB5.h5')"
      ],
      "metadata": {
        "colab": {
          "base_uri": "https://localhost:8080/"
        },
        "id": "IM_eACiirdfC",
        "outputId": "ca6a3c02-200c-40b7-beb4-a52da956a14a"
      },
      "execution_count": null,
      "outputs": [
        {
          "output_type": "stream",
          "name": "stdout",
          "text": [
            "Epoch 1/4\n",
            "42/42 [==============================] - 658s 14s/step - loss: 0.5647 - accuracy: 0.7715 - val_loss: 0.9870 - val_accuracy: 0.7500 - lr: 0.0010\n",
            "Epoch 2/4\n",
            "42/42 [==============================] - 497s 12s/step - loss: 0.3170 - accuracy: 0.8952 - val_loss: 2.3100 - val_accuracy: 0.7812 - lr: 0.0010\n",
            "Epoch 3/4\n",
            "42/42 [==============================] - 454s 11s/step - loss: 0.2280 - accuracy: 0.9215 - val_loss: 1.0092 - val_accuracy: 0.8750 - lr: 0.0010\n",
            "Epoch 4/4\n",
            "42/42 [==============================] - 495s 12s/step - loss: 0.2796 - accuracy: 0.8981 - val_loss: 0.3293 - val_accuracy: 0.8945 - lr: 0.0010\n"
          ]
        },
        {
          "output_type": "stream",
          "name": "stderr",
          "text": [
            "/usr/local/lib/python3.10/dist-packages/keras/src/engine/training.py:3103: UserWarning:\n",
            "\n",
            "You are saving your model as an HDF5 file via `model.save()`. This file format is considered legacy. We recommend using instead the native Keras format, e.g. `model.save('my_model.keras')`.\n",
            "\n"
          ]
        }
      ]
    },
    {
      "cell_type": "code",
      "source": [
        "plt.figure()\n",
        "plt.plot(history_eff.history['accuracy'])\n",
        "plt.plot(history_eff.history['val_accuracy'])\n",
        "plt.legend(['Eğitim','Doğrulama'])\n",
        "plt.title('Doğruluk (Accuracy)')\n",
        "plt.xlabel('epoch')\n",
        "plt.show()"
      ],
      "metadata": {
        "colab": {
          "base_uri": "https://localhost:8080/",
          "height": 472
        },
        "id": "oVEJsvyyxht9",
        "outputId": "e21caed1-defa-4c03-821a-ed88e578817f"
      },
      "execution_count": null,
      "outputs": [
        {
          "output_type": "display_data",
          "data": {
            "text/plain": [
              "<Figure size 640x480 with 1 Axes>"
            ],
            "image/png": "[encoded data removed]"
          },
          "metadata": {}
        }
      ]
    },
    {
      "cell_type": "code",
      "source": [
        "plt.figure()\n",
        "plt.plot(history_eff.history['loss'])\n",
        "plt.plot(history_eff.history['val_loss'])\n",
        "plt.legend(['Eğitim','Doğrulama'])\n",
        "plt.title('Kayıp (Loss)')\n",
        "plt.xlabel('epoch')"
      ],
      "metadata": {
        "colab": {
          "base_uri": "https://localhost:8080/",
          "height": 489
        },
        "id": "jkxV5rfnxrQO",
        "outputId": "aa4f0088-ddb2-4ef3-be07-8a9fd8543d1c"
      },
      "execution_count": null,
      "outputs": [
        {
          "output_type": "execute_result",
          "data": {
            "text/plain": [
              "Text(0.5, 0, 'epoch')"
            ]
          },
          "metadata": {},
          "execution_count": 13
        },
        {
          "output_type": "display_data",
          "data": {
            "text/plain": [
              "<Figure size 640x480 with 1 Axes>"
            ],
            "image/png": "[encoded data removed]"
          },
          "metadata": {}
        }
      ]
    },
    {
      "cell_type": "markdown",
      "source": [
        "\n",
        "\n",
        "```\n",
        "# This is formatted as code\n",
        "```\n",
        "\n",
        "MODEL:RESNET4"
      ],
      "metadata": {
        "id": "V62HsJrayQ0D"
      }
    },
    {
      "cell_type": "code",
      "source": [
        "from keras.models import Model, Sequential\n",
        "from keras.layers import Input, Dense, Flatten, Dropout\n",
        "from keras.layers import Conv2D, MaxPool2D, BatchNormalization\n",
        "\n",
        "model_2 = Sequential([\n",
        "\n",
        "Conv2D(16, (3, 3), activation='relu', input_shape=(160, 160, 3)),\n",
        "MaxPool2D((2, 2)),\n",
        "\n",
        "Conv2D(32, (3, 3), activation='relu'),\n",
        "BatchNormalization(),\n",
        "MaxPool2D(pool_size=(2, 2)),\n",
        "\n",
        "Conv2D(64, (3, 3), activation='relu'),\n",
        "BatchNormalization(),\n",
        "MaxPool2D(pool_size=(2, 2)),\n",
        "\n",
        "Conv2D(128, (3, 3), activation='relu'),\n",
        "BatchNormalization(),\n",
        "MaxPool2D(pool_size=(2, 2)),\n",
        "Dropout(rate=0.2),\n",
        "\n",
        "Conv2D(256, (3, 3), activation='relu'),\n",
        "BatchNormalization(),\n",
        "MaxPool2D(pool_size=(2, 2)),\n",
        "Dropout(rate=0.2),\n",
        "\n",
        "Flatten(),\n",
        "Dense(units=1024, activation='relu'),\n",
        "Dropout(rate=0.3),\n",
        "\n",
        "Dense(units=3, activation='softmax') ])\n",
        "\n",
        "model_2.compile(optimizer='adam', loss='categorical_crossentropy', metrics= ['accuracy'])"
      ],
      "metadata": {
        "id": "anfetIc2yb4a"
      },
      "execution_count": null,
      "outputs": []
    },
    {
      "cell_type": "code",
      "source": [
        "cp = ModelCheckpoint(filepath='basit_model.{epoch:02d}-{val_loss:.2f}.h5',save_weights_only=True)\n",
        "history_cnn = model_2.fit(\n",
        "           train_gen,\n",
        "           steps_per_epoch=train_gen.samples/24,\n",
        "           epochs=10,\n",
        "           validation_data=test_gen,\n",
        "           validation_steps=test_gen.samples // 24,\n",
        "           callbacks = [cp])\n",
        "model_2.save(\"/content/drive/MyDrive/Brain_Tumor_MRI_Dataset/resnet4_13.h5\")\n",
        "readyModel=load_model(\"/content/drive/MyDrive/Brain_Tumor_MRI_Dataset/resnet4_13.h5\")"
      ],
      "metadata": {
        "colab": {
          "base_uri": "https://localhost:8080/"
        },
        "id": "vRJ1UgJB0Lfp",
        "outputId": "7dcec9df-d30d-45ba-b24b-d91bcdabba94"
      },
      "execution_count": null,
      "outputs": [
        {
          "output_type": "stream",
          "name": "stdout",
          "text": [
            "Epoch 1/10\n",
            "56/56 [==============================] - 49s 853ms/step - loss: 0.8211 - accuracy: 0.7409 - val_loss: 0.6721 - val_accuracy: 0.6815\n",
            "Epoch 2/10\n",
            "56/56 [==============================] - 52s 918ms/step - loss: 0.5786 - accuracy: 0.7980 - val_loss: 1.3570 - val_accuracy: 0.6071\n",
            "Epoch 3/10\n",
            "56/56 [==============================] - 43s 758ms/step - loss: 0.5111 - accuracy: 0.7719 - val_loss: 0.6287 - val_accuracy: 0.7173\n",
            "Epoch 4/10\n",
            "56/56 [==============================] - 47s 834ms/step - loss: 0.4910 - accuracy: 0.8244 - val_loss: 1.6807 - val_accuracy: 0.5714\n",
            "Epoch 5/10\n",
            "56/56 [==============================] - 43s 745ms/step - loss: 0.4742 - accuracy: 0.8377 - val_loss: 0.5075 - val_accuracy: 0.7887\n",
            "Epoch 6/10\n",
            "56/56 [==============================] - 50s 880ms/step - loss: 0.3978 - accuracy: 0.8607 - val_loss: 1.6401 - val_accuracy: 0.5982\n",
            "Epoch 7/10\n",
            "56/56 [==============================] - 47s 831ms/step - loss: 0.3636 - accuracy: 0.8640 - val_loss: 0.6508 - val_accuracy: 0.7619\n",
            "Epoch 8/10\n",
            "56/56 [==============================] - 47s 829ms/step - loss: 0.3062 - accuracy: 0.8935 - val_loss: 0.4669 - val_accuracy: 0.7917\n",
            "Epoch 9/10\n",
            "56/56 [==============================] - 48s 849ms/step - loss: 0.3414 - accuracy: 0.8694 - val_loss: 0.5037 - val_accuracy: 0.7589\n",
            "Epoch 10/10\n",
            "56/56 [==============================] - 47s 828ms/step - loss: 0.3374 - accuracy: 0.8716 - val_loss: 1.9902 - val_accuracy: 0.6488\n"
          ]
        },
        {
          "output_type": "stream",
          "name": "stderr",
          "text": [
            "/usr/local/lib/python3.10/dist-packages/keras/src/engine/training.py:3103: UserWarning:\n",
            "\n",
            "You are saving your model as an HDF5 file via `model.save()`. This file format is considered legacy. We recommend using instead the native Keras format, e.g. `model.save('my_model.keras')`.\n",
            "\n"
          ]
        }
      ]
    },
    {
      "cell_type": "code",
      "source": [
        "plt.figure()\n",
        "plt.plot(history_cnn.history['accuracy'])\n",
        "plt.plot(history_cnn.history['val_accuracy'])\n",
        "plt.legend(['Eğitim','Doğrulama'])\n",
        "plt.title('Doğruluk (Accuracy)')\n",
        "plt.xlabel('epoch')\n",
        "plt.show()"
      ],
      "metadata": {
        "colab": {
          "base_uri": "https://localhost:8080/",
          "height": 472
        },
        "id": "i8yzfy8G1fZz",
        "outputId": "25fef78c-f66d-4f22-9655-0f1cbee9cb1a"
      },
      "execution_count": null,
      "outputs": [
        {
          "output_type": "display_data",
          "data": {
            "text/plain": [
              "<Figure size 640x480 with 1 Axes>"
            ],
            "image/png": "[encoded data removed]"
          },
          "metadata": {}
        }
      ]
    },
    {
      "cell_type": "code",
      "source": [
        "plt.figure()\n",
        "plt.plot(history_cnn.history['loss'])\n",
        "plt.plot(history_cnn.history['val_loss'])\n",
        "plt.legend(['Eğitim','Doğrulama'])\n",
        "plt.title('Kayıp (Loss)')\n",
        "plt.xlabel('epoch')"
      ],
      "metadata": {
        "colab": {
          "base_uri": "https://localhost:8080/",
          "height": 489
        },
        "id": "GUSIsdfk1hsf",
        "outputId": "ca03069f-ccec-457c-b4f1-2ea3a8098307"
      },
      "execution_count": null,
      "outputs": [
        {
          "output_type": "execute_result",
          "data": {
            "text/plain": [
              "Text(0.5, 0, 'epoch')"
            ]
          },
          "metadata": {},
          "execution_count": 17
        },
        {
          "output_type": "display_data",
          "data": {
            "text/plain": [
              "<Figure size 640x480 with 1 Axes>"
            ],
            "image/png": "[encoded data removed]"
          },
          "metadata": {}
        }
      ]
    },
    {
      "cell_type": "markdown",
      "source": [
        "MODEL: VGG16"
      ],
      "metadata": {
        "id": "7Qq3vEWV13Np"
      }
    },
    {
      "cell_type": "code",
      "source": [
        "from keras.applications.vgg16 import VGG16, preprocess_input\n",
        "vgg16 = VGG16(include_top= False, input_shape= (160, 160, 3), weights= 'imagenet')\n",
        "vgg16.summary()"
      ],
      "metadata": {
        "colab": {
          "base_uri": "https://localhost:8080/"
        },
        "id": "5aeIEXh31lXM",
        "outputId": "71081169-d9f5-4b6c-ad47-16c8f578ed8d"
      },
      "execution_count": null,
      "outputs": [
        {
          "output_type": "stream",
          "name": "stdout",
          "text": [
            "Downloading data from https://storage.googleapis.com/tensorflow/keras-applications/vgg16/vgg16_weights_tf_dim_ordering_tf_kernels_notop.h5\n",
            "58889256/58889256 [==============================] - 0s 0us/step\n",
            "Model: \"vgg16\"\n",
            "_________________________________________________________________\n",
            " Layer (type)                Output Shape              Param #   \n",
            "=================================================================\n",
            " input_3 (InputLayer)        [(None, 160, 160, 3)]     0         \n",
            "                                                                 \n",
            " block1_conv1 (Conv2D)       (None, 160, 160, 64)      1792      \n",
            "                                                                 \n",
            " block1_conv2 (Conv2D)       (None, 160, 160, 64)      36928     \n",
            "                                                                 \n",
            " block1_pool (MaxPooling2D)  (None, 80, 80, 64)        0         \n",
            "                                                                 \n",
            " block2_conv1 (Conv2D)       (None, 80, 80, 128)       73856     \n",
            "                                                                 \n",
            " block2_conv2 (Conv2D)       (None, 80, 80, 128)       147584    \n",
            "                                                                 \n",
            " block2_pool (MaxPooling2D)  (None, 40, 40, 128)       0         \n",
            "                                                                 \n",
            " block3_conv1 (Conv2D)       (None, 40, 40, 256)       295168    \n",
            "                                                                 \n",
            " block3_conv2 (Conv2D)       (None, 40, 40, 256)       590080    \n",
            "                                                                 \n",
            " block3_conv3 (Conv2D)       (None, 40, 40, 256)       590080    \n",
            "                                                                 \n",
            " block3_pool (MaxPooling2D)  (None, 20, 20, 256)       0         \n",
            "                                                                 \n",
            " block4_conv1 (Conv2D)       (None, 20, 20, 512)       1180160   \n",
            "                                                                 \n",
            " block4_conv2 (Conv2D)       (None, 20, 20, 512)       2359808   \n",
            "                                                                 \n",
            " block4_conv3 (Conv2D)       (None, 20, 20, 512)       2359808   \n",
            "                                                                 \n",
            " block4_pool (MaxPooling2D)  (None, 10, 10, 512)       0         \n",
            "                                                                 \n",
            " block5_conv1 (Conv2D)       (None, 10, 10, 512)       2359808   \n",
            "                                                                 \n",
            " block5_conv2 (Conv2D)       (None, 10, 10, 512)       2359808   \n",
            "                                                                 \n",
            " block5_conv3 (Conv2D)       (None, 10, 10, 512)       2359808   \n",
            "                                                                 \n",
            " block5_pool (MaxPooling2D)  (None, 5, 5, 512)         0         \n",
            "                                                                 \n",
            "=================================================================\n",
            "Total params: 14714688 (56.13 MB)\n",
            "Trainable params: 14714688 (56.13 MB)\n",
            "Non-trainable params: 0 (0.00 Byte)\n",
            "_________________________________________________________________\n"
          ]
        }
      ]
    },
    {
      "cell_type": "code",
      "source": [
        "from keras.layers import Flatten,Dropout,Dense\n",
        "from IPython.display import SVG\n",
        "from tensorflow import keras\n",
        "from keras.utils import model_to_dot, plot_model\n",
        "\n",
        "model_3 = Sequential()\n",
        "\n",
        "for layer in vgg16.layers:\n",
        "    model_3.add(layer)\n",
        "\n",
        "for layer in model_3.layers:\n",
        "    layer.trainable= False\n",
        "\n",
        "model_3.add(Flatten(input_shape= (4, 4, 512)))\n",
        "model_3.add(Dropout(0.2))\n",
        "model_3.add(Dense(3,activation='softmax'))\n",
        "\n",
        "model_3.summary()\n",
        "\n",
        "SVG(model_to_dot(model_3).create(prog='dot', format='svg'))\n",
        "plot_model(model_3, to_file='model_plot.png', show_shapes=True, show_layer_names=True, expand_nested=True)\n",
        "\n",
        "model_3.compile(optimizer= keras.optimizers.Adam(lr= 0.0001), loss= 'categorical_crossentropy', metrics= ['accuracy'])"
      ],
      "metadata": {
        "colab": {
          "base_uri": "https://localhost:8080/"
        },
        "id": "305fWN3y2EQJ",
        "outputId": "feff3bef-6696-43f8-930c-33dbc9a23434"
      },
      "execution_count": null,
      "outputs": [
        {
          "output_type": "stream",
          "name": "stdout",
          "text": [
            "Model: \"sequential_5\"\n",
            "_________________________________________________________________\n",
            " Layer (type)                Output Shape              Param #   \n",
            "=================================================================\n",
            " block1_conv1 (Conv2D)       (None, 160, 160, 64)      1792      \n",
            "                                                                 \n",
            " block1_conv2 (Conv2D)       (None, 160, 160, 64)      36928     \n",
            "                                                                 \n",
            " block1_pool (MaxPooling2D)  (None, 80, 80, 64)        0         \n",
            "                                                                 \n",
            " block2_conv1 (Conv2D)       (None, 80, 80, 128)       73856     \n",
            "                                                                 \n",
            " block2_conv2 (Conv2D)       (None, 80, 80, 128)       147584    \n",
            "                                                                 \n",
            " block2_pool (MaxPooling2D)  (None, 40, 40, 128)       0         \n",
            "                                                                 \n",
            " block3_conv1 (Conv2D)       (None, 40, 40, 256)       295168    \n",
            "                                                                 \n",
            " block3_conv2 (Conv2D)       (None, 40, 40, 256)       590080    \n",
            "                                                                 \n",
            " block3_conv3 (Conv2D)       (None, 40, 40, 256)       590080    \n",
            "                                                                 \n",
            " block3_pool (MaxPooling2D)  (None, 20, 20, 256)       0         \n",
            "                                                                 \n",
            " block4_conv1 (Conv2D)       (None, 20, 20, 512)       1180160   \n",
            "                                                                 \n",
            " block4_conv2 (Conv2D)       (None, 20, 20, 512)       2359808   \n",
            "                                                                 \n",
            " block4_conv3 (Conv2D)       (None, 20, 20, 512)       2359808   \n",
            "                                                                 \n",
            " block4_pool (MaxPooling2D)  (None, 10, 10, 512)       0         \n",
            "                                                                 \n",
            " block5_conv1 (Conv2D)       (None, 10, 10, 512)       2359808   \n",
            "                                                                 \n",
            " block5_conv2 (Conv2D)       (None, 10, 10, 512)       2359808   \n",
            "                                                                 \n",
            " block5_conv3 (Conv2D)       (None, 10, 10, 512)       2359808   \n",
            "                                                                 \n",
            " block5_pool (MaxPooling2D)  (None, 5, 5, 512)         0         \n",
            "                                                                 \n",
            " flatten_3 (Flatten)         (None, 12800)             0         \n",
            "                                                                 \n",
            " dropout_9 (Dropout)         (None, 12800)             0         \n",
            "                                                                 \n",
            " dense_7 (Dense)             (None, 3)                 38403     \n",
            "                                                                 \n",
            "=================================================================\n",
            "Total params: 14753091 (56.28 MB)\n",
            "Trainable params: 38403 (150.01 KB)\n",
            "Non-trainable params: 14714688 (56.13 MB)\n",
            "_________________________________________________________________\n"
          ]
        },
        {
          "output_type": "stream",
          "name": "stderr",
          "text": [
            "WARNING:absl:`lr` is deprecated in Keras optimizer, please use `learning_rate` or use the legacy optimizer, e.g.,tf.keras.optimizers.legacy.Adam.\n"
          ]
        }
      ]
    },
    {
      "cell_type": "code",
      "source": [
        "from keras.callbacks import ModelCheckpoint, EarlyStopping, CSVLogger, ReduceLROnPlateau\n",
        "\n",
        "checkpoint = ModelCheckpoint(\n",
        "    'baseline_model.h5',\n",
        "    monitor='val_loss',\n",
        "    verbose=1,\n",
        "    save_best_only=True,\n",
        "    mode='auto',\n",
        "    save_weights_only=False,\n",
        "    period=1\n",
        ")\n",
        "\n",
        "earlystop = EarlyStopping(\n",
        "    monitor='val_loss',\n",
        "    min_delta=0.001,\n",
        "    patience=3,\n",
        "    verbose=1,\n",
        "    mode='auto'\n",
        ")\n",
        "\n",
        "csvlogger = CSVLogger(\n",
        "    filename= \"baseline_training_csv.log\",\n",
        "    separator = \",\",\n",
        "    append = False\n",
        ")\n",
        "\n",
        "reduceLR = ReduceLROnPlateau(\n",
        "    monitor='val_loss',\n",
        "    factor=0.1,\n",
        "    patience=3,\n",
        "    verbose=1,\n",
        "    mode='auto'\n",
        ")\n",
        "\n",
        "callbacks = [checkpoint, earlystop, csvlogger,reduceLR]"
      ],
      "metadata": {
        "colab": {
          "base_uri": "https://localhost:8080/"
        },
        "id": "_fW34etY2IML",
        "outputId": "dd8a2750-955c-4b3e-dc6f-524e63fb286b"
      },
      "execution_count": null,
      "outputs": [
        {
          "output_type": "stream",
          "name": "stderr",
          "text": [
            "WARNING:tensorflow:`period` argument is deprecated. Please use `save_freq` to specify the frequency in number of batches seen.\n"
          ]
        }
      ]
    },
    {
      "cell_type": "code",
      "source": [
        "history_3 = model_3.fit(\n",
        "    train_gen,\n",
        "    epochs = 3,\n",
        "    steps_per_epoch=train_gen.samples/32,\n",
        "    validation_data = test_gen,\n",
        "    validation_steps=test_gen.samples // 32,\n",
        "    verbose = 1,\n",
        "    callbacks = callbacks,\n",
        "    shuffle = True\n",
        ")\n",
        "\n",
        "model_3.save(\"/content/drive/MyDrive/Brain_Tumor_MRI_Dataset/modelVGG16.h5\")\n",
        "readyModelVGG=(\"/content/drive/MyDrive/Brain_Tumor_MRI_Dataset/modelVGG16.h5\")"
      ],
      "metadata": {
        "colab": {
          "base_uri": "https://localhost:8080/"
        },
        "id": "LDx3iV_b2oxX",
        "outputId": "eab3e970-b6b1-4abf-d41e-dabc88992d4c"
      },
      "execution_count": null,
      "outputs": [
        {
          "output_type": "stream",
          "name": "stdout",
          "text": [
            "Epoch 1/3\n",
            "43/42 [==============================] - ETA: -1s - loss: 3.5540 - accuracy: 0.7307\n",
            "Epoch 1: val_loss improved from inf to 3.36347, saving model to baseline_model.h5\n",
            "42/42 [==============================] - 220s 5s/step - loss: 3.5540 - accuracy: 0.7307 - val_loss: 3.3635 - val_accuracy: 0.8359 - lr: 0.0010\n",
            "Epoch 2/3\n",
            "43/42 [==============================] - ETA: -1s - loss: 1.6702 - accuracy: 0.8777\n",
            "Epoch 2: val_loss did not improve from 3.36347\n",
            "42/42 [==============================] - 216s 5s/step - loss: 1.6702 - accuracy: 0.8777 - val_loss: 6.0778 - val_accuracy: 0.7852 - lr: 0.0010\n",
            "Epoch 3/3\n",
            "43/42 [==============================] - ETA: -1s - loss: 1.5056 - accuracy: 0.8952\n",
            "Epoch 3: val_loss did not improve from 3.36347\n",
            "42/42 [==============================] - 217s 5s/step - loss: 1.5056 - accuracy: 0.8952 - val_loss: 4.0923 - val_accuracy: 0.8320 - lr: 0.0010\n"
          ]
        }
      ]
    },
    {
      "cell_type": "code",
      "source": [
        "plt.figure()\n",
        "plt.plot(history_3.history['loss'])\n",
        "plt.plot(history_3.history['val_loss'])\n",
        "plt.legend(['Eğitim','Doğrulama'])\n",
        "plt.title('Kayıp (Loss)')\n",
        "plt.xlabel('epoch')"
      ],
      "metadata": {
        "colab": {
          "base_uri": "https://localhost:8080/",
          "height": 489
        },
        "id": "C13iEUJI5foZ",
        "outputId": "b962835e-413d-4b70-b369-fa24fd602a5d"
      },
      "execution_count": null,
      "outputs": [
        {
          "output_type": "execute_result",
          "data": {
            "text/plain": [
              "Text(0.5, 0, 'epoch')"
            ]
          },
          "metadata": {},
          "execution_count": 36
        },
        {
          "output_type": "display_data",
          "data": {
            "text/plain": [
              "<Figure size 640x480 with 1 Axes>"
            ],
            "image/png": "[encoded data removed]"
          },
          "metadata": {}
        }
      ]
    },
    {
      "cell_type": "code",
      "source": [
        "plt.figure()\n",
        "plt.plot(history_3.history['accuracy'])\n",
        "plt.plot(history_3.history['val_accuracy'])\n",
        "plt.legend(['Eğitim','Doğrulama'])\n",
        "plt.title('Doğruluk (Accuracy)')\n",
        "plt.xlabel('epoch')\n",
        "plt.show()"
      ],
      "metadata": {
        "colab": {
          "base_uri": "https://localhost:8080/",
          "height": 472
        },
        "id": "01zGWAHT5iUi",
        "outputId": "2e2b571c-4b84-4fc6-ef35-dc8c5e869ef9"
      },
      "execution_count": null,
      "outputs": [
        {
          "output_type": "display_data",
          "data": {
            "text/plain": [
              "<Figure size 640x480 with 1 Axes>"
            ],
            "image/png": "[encoded data removed]"
          },
          "metadata": {}
        }
      ]
    },
    {
      "cell_type": "markdown",
      "source": [
        "MODEL: ourModel"
      ],
      "metadata": {
        "id": "v-TEuKBa5yRt"
      }
    },
    {
      "cell_type": "code",
      "source": [
        "from keras.models import Model, Sequential\n",
        "from keras.layers import Input, Dense, Flatten, Dropout\n",
        "from keras.layers import Conv2D, MaxPool2D, BatchNormalization\n",
        "\n",
        "ourModel = Sequential([\n",
        "\n",
        "Conv2D(16, (2, 2), activation='relu', input_shape=(160, 160, 3)),\n",
        "MaxPool2D((2, 2)),\n",
        "\n",
        "Conv2D(32, (3, 3), activation='relu'),\n",
        "BatchNormalization(),\n",
        "MaxPool2D(pool_size=(2, 2)),\n",
        "\n",
        "Conv2D(64, (3, 3), activation='relu'),\n",
        "BatchNormalization(),\n",
        "MaxPool2D(pool_size=(2, 2)),\n",
        "\n",
        "Conv2D(128, (2, 2), activation='relu'),\n",
        "BatchNormalization(),\n",
        "MaxPool2D(pool_size=(3, 3)),\n",
        "Dropout(rate=0.4),\n",
        "\n",
        "Flatten(),\n",
        "Dense(units=1024, activation='relu'),\n",
        "Dropout(rate=0.3),\n",
        "\n",
        "Dense(units=3, activation='softmax') ])\n",
        "\n",
        "ourModel.compile(optimizer='adam', loss='categorical_crossentropy', metrics= ['accuracy'])"
      ],
      "metadata": {
        "id": "Qaaycnqw5u95"
      },
      "execution_count": null,
      "outputs": []
    },
    {
      "cell_type": "code",
      "source": [
        "cp = ModelCheckpoint(filepath='basit_model.{epoch:02d}-{val_loss:.2f}.h5',save_weights_only=True)\n",
        "history_ourModel = ourModel.fit(\n",
        "           train_gen,\n",
        "           steps_per_epoch=train_gen.samples/24,\n",
        "           epochs=15,\n",
        "           validation_data=test_gen,\n",
        "           validation_steps=test_gen.samples // 24,\n",
        "           callbacks = [cp])\n",
        "ourModel.save(\"/content/drive/MyDrive/Brain_Tumor_MRI_Dataset/ourModel.h5\")\n",
        "readyOurModel=load_model(\"/content/drive/MyDrive/Brain_Tumor_MRI_Dataset/ourModel.h5\")"
      ],
      "metadata": {
        "colab": {
          "base_uri": "https://localhost:8080/"
        },
        "id": "Ddohh_sc54bX",
        "outputId": "bf823619-56c9-4a1b-c3f4-45ffa14ef464"
      },
      "execution_count": null,
      "outputs": [
        {
          "output_type": "stream",
          "name": "stdout",
          "text": [
            "Epoch 1/15\n",
            "56/56 [==============================] - 43s 754ms/step - loss: 0.4570 - accuracy: 0.8112 - val_loss: 0.6426 - val_accuracy: 0.7143\n",
            "Epoch 2/15\n",
            "56/56 [==============================] - 38s 673ms/step - loss: 0.4527 - accuracy: 0.8035 - val_loss: 0.5072 - val_accuracy: 0.7917\n",
            "Epoch 3/15\n",
            "56/56 [==============================] - 39s 682ms/step - loss: 0.4808 - accuracy: 0.7958 - val_loss: 0.5708 - val_accuracy: 0.7321\n",
            "Epoch 4/15\n",
            "56/56 [==============================] - 43s 754ms/step - loss: 0.4561 - accuracy: 0.7925 - val_loss: 0.4619 - val_accuracy: 0.7946\n",
            "Epoch 5/15\n",
            "56/56 [==============================] - 44s 762ms/step - loss: 0.4446 - accuracy: 0.8112 - val_loss: 0.4335 - val_accuracy: 0.8214\n",
            "Epoch 6/15\n",
            "56/56 [==============================] - 43s 758ms/step - loss: 0.4169 - accuracy: 0.8191 - val_loss: 0.6975 - val_accuracy: 0.7440\n",
            "Epoch 7/15\n",
            "56/56 [==============================] - 38s 667ms/step - loss: 0.3831 - accuracy: 0.8299 - val_loss: 0.5249 - val_accuracy: 0.7917\n",
            "Epoch 8/15\n",
            "56/56 [==============================] - 39s 697ms/step - loss: 0.4369 - accuracy: 0.8277 - val_loss: 0.5216 - val_accuracy: 0.7946\n",
            "Epoch 9/15\n",
            "56/56 [==============================] - 39s 686ms/step - loss: 0.4269 - accuracy: 0.8288 - val_loss: 0.6496 - val_accuracy: 0.7827\n",
            "Epoch 10/15\n",
            "56/56 [==============================] - 38s 674ms/step - loss: 0.3423 - accuracy: 0.8584 - val_loss: 0.7076 - val_accuracy: 0.6875\n",
            "Epoch 11/15\n",
            "56/56 [==============================] - 43s 756ms/step - loss: 0.3301 - accuracy: 0.8728 - val_loss: 0.6495 - val_accuracy: 0.7381\n",
            "Epoch 12/15\n",
            "56/56 [==============================] - 43s 768ms/step - loss: 0.3704 - accuracy: 0.8595 - val_loss: 0.9828 - val_accuracy: 0.6756\n",
            "Epoch 13/15\n",
            "56/56 [==============================] - 38s 670ms/step - loss: 0.3923 - accuracy: 0.8408 - val_loss: 0.7878 - val_accuracy: 0.7202\n",
            "Epoch 14/15\n",
            "56/56 [==============================] - 39s 687ms/step - loss: 0.3524 - accuracy: 0.8542 - val_loss: 0.5857 - val_accuracy: 0.7917\n",
            "Epoch 15/15\n",
            "56/56 [==============================] - 43s 756ms/step - loss: 0.2827 - accuracy: 0.8880 - val_loss: 0.6599 - val_accuracy: 0.6935\n"
          ]
        }
      ]
    },
    {
      "cell_type": "code",
      "source": [
        "plt.figure()\n",
        "plt.plot(history_ourModel.history['accuracy'])\n",
        "plt.plot(history_ourModel.history['val_accuracy'])\n",
        "plt.legend(['Eğitim','Doğrulama'])\n",
        "plt.title('Doğruluk (Accuracy)')\n",
        "plt.xlabel('epoch')\n",
        "plt.show()"
      ],
      "metadata": {
        "colab": {
          "base_uri": "https://localhost:8080/",
          "height": 472
        },
        "id": "tf-Vivg36u5J",
        "outputId": "6a9c8906-f79d-4213-abb4-466094cb39c6"
      },
      "execution_count": null,
      "outputs": [
        {
          "output_type": "display_data",
          "data": {
            "text/plain": [
              "<Figure size 640x480 with 1 Axes>"
            ],
            "image/png": "[encoded data removed]"
          },
          "metadata": {}
        }
      ]
    },
    {
      "cell_type": "code",
      "source": [
        "plt.figure()\n",
        "plt.plot(history_ourModel.history['loss'])\n",
        "plt.plot(history_ourModel.history['val_loss'])\n",
        "plt.legend(['Eğitim','Doğrulama'])\n",
        "plt.title('Kayıp (Loss)')\n",
        "plt.xlabel('epoch')"
      ],
      "metadata": {
        "colab": {
          "base_uri": "https://localhost:8080/",
          "height": 489
        },
        "id": "JG4JLWkj6whl",
        "outputId": "42ae47e1-1b57-43a7-e6e2-d41582282fc9"
      },
      "execution_count": null,
      "outputs": [
        {
          "output_type": "execute_result",
          "data": {
            "text/plain": [
              "Text(0.5, 0, 'epoch')"
            ]
          },
          "metadata": {},
          "execution_count": 22
        },
        {
          "output_type": "display_data",
          "data": {
            "text/plain": [
              "<Figure size 640x480 with 1 Axes>"
            ],
            "image/png": "[encoded data removed]"
          },
          "metadata": {}
        }
      ]
    },
    {
      "cell_type": "markdown",
      "source": [
        "Confusion Matrix"
      ],
      "metadata": {
        "id": "rEGrHOpJ608L"
      }
    },
    {
      "cell_type": "code",
      "source": [
        "imageSize=160\n",
        "train_dir = \"/content/drive/MyDrive/Brain_Tumor_MRI_Dataset/train/\"\n",
        "test_dir =  \"/content/drive/MyDrive/Brain_Tumor_MRI_Dataset/test/\"\n",
        "\n",
        "X = []\n",
        "y = []\n",
        "for folderName in os.listdir(test_dir):\n",
        "    if not folderName.startswith('.'):\n",
        "        if folderName in ['glioma']:\n",
        "            label = 0\n",
        "        elif folderName in ['meningioma']:\n",
        "            label = 1\n",
        "        elif folderName in ['notumor']:\n",
        "            label = 2\n",
        "\n",
        "        else:\n",
        "            label = 3\n",
        "        for image_filename in tqdm(os.listdir(test_dir + folderName)):\n",
        "            img_file = cv2.imread(test_dir + folderName + '/' + image_filename)\n",
        "            if img_file is not None:\n",
        "                img_file = skimage.transform.resize(img_file, (imageSize, imageSize))\n",
        "                img_arr = np.asarray(img_file)\n",
        "                X.append(img_arr)\n",
        "                y.append(label)\n",
        "X = np.asarray(X)\n",
        "y = np.asarray(y)\n",
        "model = load_model('/content/drive/MyDrive/Brain_Tumor_MRI_Dataset/modelVGG16.h5')\n",
        "pred=np.argmax(model.predict(X),axis=1)\n"
      ],
      "metadata": {
        "colab": {
          "base_uri": "https://localhost:8080/"
        },
        "id": "OidaME-L68oS",
        "outputId": "b5f663f5-cb9b-4c22-a9e8-2f74ee580b24"
      },
      "execution_count": null,
      "outputs": [
        {
          "output_type": "stream",
          "name": "stderr",
          "text": [
            "100%|██████████| 172/172 [00:09<00:00, 19.04it/s]\n",
            "100%|██████████| 211/211 [00:05<00:00, 39.73it/s]\n",
            "100%|██████████| 129/129 [00:05<00:00, 21.74it/s]\n"
          ]
        },
        {
          "output_type": "stream",
          "name": "stdout",
          "text": [
            "16/16 [==============================] - 174s 10s/step\n"
          ]
        }
      ]
    },
    {
      "cell_type": "code",
      "source": [
        "code = {'glioma':0 ,'meningioma':1,'notumor':2}\n",
        "\n",
        "X_test = []\n",
        "y_test = []\n",
        "for folder in  os.listdir(test) :\n",
        "    files = glob.glob(pathname= str( test + folder + '/*.jpg'))\n",
        "    for file in files:\n",
        "        image = cv2.imread(file)\n",
        "        image_array = cv2.resize(image , (160,160),3)\n",
        "        X_test.append(list(image_array))\n",
        "        y_test.append(code[folder])\n",
        "np.save('X_test',X_test)\n",
        "np.save('y_test',y_test)\n",
        "\n",
        "loaded_X_test = np.load('./X_test.npy')\n",
        "loaded_y_test = np.load('./y_test.npy')\n",
        "y_test = loaded_y_test\n",
        "\n",
        "model = load_model('/content/drive/MyDrive/Brain_Tumor_MRI_Dataset/modelEffNetB5.h5')\n",
        "pred=np.argmax(model.predict(loaded_X_test),axis=1)\n",
        "cm = confusion_matrix(y_test,\n",
        "                     pred)\n",
        "plt.figure(figsize = (6,5))\n",
        "sns.heatmap(cm,fmt='.4g', annot=True)"
      ],
      "metadata": {
        "colab": {
          "base_uri": "https://localhost:8080/",
          "height": 480
        },
        "id": "jE_6qc1876oi",
        "outputId": "f130d5a8-6ca2-4cdd-b201-193aebd2a4f8"
      },
      "execution_count": null,
      "outputs": [
        {
          "output_type": "stream",
          "name": "stdout",
          "text": [
            "16/16 [==============================] - 92s 6s/step\n"
          ]
        },
        {
          "output_type": "execute_result",
          "data": {
            "text/plain": [
              "<Axes: >"
            ]
          },
          "metadata": {},
          "execution_count": 12
        },
        {
          "output_type": "display_data",
          "data": {
            "text/plain": [
              "<Figure size 600x500 with 2 Axes>"
            ],
            "image/png": "[encoded data removed]"
          },
          "metadata": {}
        }
      ]
    },
    {
      "cell_type": "code",
      "source": [
        "code = {'glioma':0 ,'meningioma':1,'notumor':2 }\n",
        "\n",
        "X_test = []\n",
        "y_test = []\n",
        "for folder in  os.listdir(test) :\n",
        "    files = glob.glob(pathname= str( test + folder + '/*.jpg'))\n",
        "    for file in files:\n",
        "        image = cv2.imread(file)\n",
        "        image_array = cv2.resize(image , (160,160),3)\n",
        "        X_test.append(list(image_array))\n",
        "        y_test.append(code[folder])\n",
        "np.save('X_test',X_test)\n",
        "np.save('y_test',y_test)\n",
        "\n",
        "loaded_X_test = np.load('./X_test.npy')\n",
        "loaded_y_test = np.load('./y_test.npy')\n",
        "y_test = loaded_y_test\n",
        "\n",
        "model = load_model('/content/drive/MyDrive/Brain_Tumor_MRI_Dataset/resnet4_13.h5')\n",
        "pred=np.argmax(model.predict(loaded_X_test),axis=1)\n",
        "cm = confusion_matrix(y_test,\n",
        "                     pred)\n",
        "plt.figure(figsize = (6,5))\n",
        "sns.heatmap(cm,fmt='.4g', annot=True)"
      ],
      "metadata": {
        "colab": {
          "base_uri": "https://localhost:8080/",
          "height": 482
        },
        "id": "FHJqcKoN8Zxd",
        "outputId": "5f020f58-1d52-49fa-f0fd-6cc9c411e22f"
      },
      "execution_count": null,
      "outputs": [
        {
          "output_type": "stream",
          "name": "stdout",
          "text": [
            "16/16 [==============================] - 7s 394ms/step\n"
          ]
        },
        {
          "output_type": "execute_result",
          "data": {
            "text/plain": [
              "<Axes: >"
            ]
          },
          "metadata": {},
          "execution_count": 13
        },
        {
          "output_type": "display_data",
          "data": {
            "text/plain": [
              "<Figure size 600x500 with 2 Axes>"
            ],
            "image/png": "[encoded data removed]"
          },
          "metadata": {}
        }
      ]
    },
    {
      "cell_type": "code",
      "source": [
        "code = {'glioma':0 ,'meningioma':1,'notumor':2 }\n",
        "\n",
        "X_test = []\n",
        "y_test = []\n",
        "for folder in  os.listdir(test) :\n",
        "    files = glob.glob(pathname= str( test + folder + '/*.jpg'))\n",
        "    for file in files:\n",
        "        image = cv2.imread(file)\n",
        "        image_array = cv2.resize(image , (160,160),3)\n",
        "        X_test.append(list(image_array))\n",
        "        y_test.append(code[folder])\n",
        "np.save('X_test',X_test)\n",
        "np.save('y_test',y_test)\n",
        "\n",
        "loaded_X_test = np.load('./X_test.npy')\n",
        "loaded_y_test = np.load('./y_test.npy')\n",
        "y_test = loaded_y_test\n",
        "\n",
        "model = load_model('/content/drive/MyDrive/Brain_Tumor_MRI_Dataset/ourModel.h5')\n",
        "pred=np.argmax(model.predict(loaded_X_test),axis=1)\n",
        "cm = confusion_matrix(y_test,\n",
        "                     pred)\n",
        "plt.figure(figsize = (6,5))\n",
        "sns.heatmap(cm,fmt='.4g', annot=True)"
      ],
      "metadata": {
        "colab": {
          "base_uri": "https://localhost:8080/",
          "height": 480
        },
        "id": "ycohvg7_8ozi",
        "outputId": "d46b00f5-ec0d-4920-fb21-d9bdca464d28"
      },
      "execution_count": null,
      "outputs": [
        {
          "output_type": "stream",
          "name": "stdout",
          "text": [
            "16/16 [==============================] - 3s 204ms/step\n"
          ]
        },
        {
          "output_type": "execute_result",
          "data": {
            "text/plain": [
              "<Axes: >"
            ]
          },
          "metadata": {},
          "execution_count": 26
        },
        {
          "output_type": "display_data",
          "data": {
            "text/plain": [
              "<Figure size 600x500 with 2 Axes>"
            ],
            "image/png": "[encoded data removed]"
          },
          "metadata": {}
        }
      ]
    },
    {
      "cell_type": "code",
      "source": [
        "code = {'glioma':0 ,'meningioma':1,'notumor':2 }\n",
        "\n",
        "X_test = []\n",
        "y_test = []\n",
        "for folder in  os.listdir(test) :\n",
        "    files = glob.glob(pathname= str( test + folder + '/*.jpg'))\n",
        "    for file in files:\n",
        "        image = cv2.imread(file)\n",
        "        image_array = cv2.resize(image , (160,160),3)\n",
        "        X_test.append(list(image_array))\n",
        "        y_test.append(code[folder])\n",
        "np.save('X_test',X_test)\n",
        "np.save('y_test',y_test)\n",
        "\n",
        "loaded_X_test = np.load('./X_test.npy')\n",
        "loaded_y_test = np.load('./y_test.npy')\n",
        "y_test = loaded_y_test\n",
        "\n",
        "model = load_model('/content/drive/MyDrive/Brain_Tumor_MRI_Dataset/modelVGG16.h5')\n",
        "pred=np.argmax(model.predict(loaded_X_test),axis=1)\n",
        "cm = confusion_matrix(y_test,\n",
        "                     pred)\n",
        "plt.figure(figsize = (6,5))\n",
        "sns.heatmap(cm,fmt='.4g', annot=True)"
      ],
      "metadata": {
        "colab": {
          "base_uri": "https://localhost:8080/",
          "height": 480
        },
        "id": "J1qdPqXH8wD9",
        "outputId": "4a9b550c-6991-4a60-b37d-cb5cd2b64327"
      },
      "execution_count": null,
      "outputs": [
        {
          "output_type": "stream",
          "name": "stdout",
          "text": [
            "16/16 [==============================] - 173s 11s/step\n"
          ]
        },
        {
          "output_type": "execute_result",
          "data": {
            "text/plain": [
              "<Axes: >"
            ]
          },
          "metadata": {},
          "execution_count": 27
        },
        {
          "output_type": "display_data",
          "data": {
            "text/plain": [
              "<Figure size 600x500 with 2 Axes>"
            ],
            "image/png": "[encoded data removed]"
          },
          "metadata": {}
        }
      ]
    },
    {
      "cell_type": "markdown",
      "source": [
        "K-Folds"
      ],
      "metadata": {
        "id": "1SvOeYUw9rU0"
      }
    },
    {
      "cell_type": "code",
      "source": [
        "from sklearn.metrics import classification_report\n",
        "from keras.models import load_model\n",
        "target_names = ['notumor','meningioma','glioma'] # target values\n",
        "\n",
        "# Print classification report after a train/test split:\n",
        "print(classification_report(y, pred, target_names=target_names))"
      ],
      "metadata": {
        "colab": {
          "base_uri": "https://localhost:8080/"
        },
        "id": "iSGrkzOn9uIX",
        "outputId": "b0de3322-bf5a-4da7-be94-f76120982ff4"
      },
      "execution_count": null,
      "outputs": [
        {
          "output_type": "stream",
          "name": "stdout",
          "text": [
            "              precision    recall  f1-score   support\n",
            "\n",
            "     notumor       0.84      0.49      0.62       129\n",
            "  meningioma       0.68      0.95      0.79       172\n",
            "      glioma       0.99      0.92      0.96       211\n",
            "\n",
            "    accuracy                           0.82       512\n",
            "   macro avg       0.84      0.79      0.79       512\n",
            "weighted avg       0.85      0.82      0.82       512\n",
            "\n"
          ]
        }
      ]
    },
    {
      "cell_type": "code",
      "source": [
        "imageSize=160\n",
        "train_dir = \"/content/drive/MyDrive/Brain_Tumor_MRI_Dataset/train\"\n",
        "test_dir =  \"/content/drive/MyDrive/Brain_Tumor_MRI_Dataset/test/\"\n",
        "from tqdm import tqdm\n",
        "\n",
        "X = []\n",
        "y = []\n",
        "for folderName in os.listdir(test_dir):\n",
        "    if not folderName.startswith('.'):\n",
        "\n",
        "\n",
        "        if folderName in ['glioma']:\n",
        "            label = 0\n",
        "        elif folderName in ['meningioma']:\n",
        "            label = 1\n",
        "        elif folderName in ['notumor']:\n",
        "            label = 2\n",
        "        else:\n",
        "            label = 3\n",
        "        for image_filename in tqdm(os.listdir(test_dir + folderName)):\n",
        "            img_file = cv2.imread(test_dir + folderName + '/' + image_filename)\n",
        "            if img_file is not None:\n",
        "                img_file = skimage.transform.resize(img_file, (imageSize, imageSize, 3))\n",
        "                img_arr = np.asarray(img_file)\n",
        "                X.append(img_arr)\n",
        "                y.append(label)\n",
        "X = np.asarray(X)\n",
        "y = np.asarray(y)"
      ],
      "metadata": {
        "colab": {
          "base_uri": "https://localhost:8080/"
        },
        "id": "HWOG5cxF92GE",
        "outputId": "9c6569d8-a2f8-4397-af07-302e4ffb0fbf"
      },
      "execution_count": null,
      "outputs": [
        {
          "output_type": "stream",
          "name": "stderr",
          "text": [
            "100%|██████████| 172/172 [00:06<00:00, 25.44it/s]\n",
            "100%|██████████| 211/211 [00:04<00:00, 44.66it/s]\n",
            "100%|██████████| 129/129 [00:04<00:00, 29.85it/s]\n"
          ]
        }
      ]
    },
    {
      "cell_type": "markdown",
      "source": [
        "K-Fold 5 For Resnet4 Model"
      ],
      "metadata": {
        "id": "l4SzJnviCrAZ"
      }
    },
    {
      "cell_type": "code",
      "source": [
        "from keras import layers\n",
        "from keras.preprocessing.image import ImageDataGenerator\n",
        "from keras.callbacks import ReduceLROnPlateau, ModelCheckpoint\n",
        "from keras.models import Model, Sequential\n",
        "from keras.layers import Input, Dense, Flatten, Dropout\n",
        "from keras.layers import Conv2D, MaxPool2D, BatchNormalization\n",
        "from keras.utils import to_categorical\n"
      ],
      "metadata": {
        "id": "6AzM6tYiCnM2"
      },
      "execution_count": null,
      "outputs": []
    },
    {
      "cell_type": "code",
      "source": [
        "def model_create():\n",
        "  model2 = Sequential([\n",
        "\n",
        "  Conv2D(16, (3, 3), activation='relu', input_shape=(160, 160, 3)),\n",
        "  MaxPool2D((2, 2)),\n",
        "\n",
        "  Conv2D(32, (3, 3), activation='relu'),\n",
        "  BatchNormalization(),\n",
        "  MaxPool2D(pool_size=(2, 2)),\n",
        "\n",
        "  Conv2D(64, (3, 3), activation='relu'),\n",
        "  BatchNormalization(),\n",
        "  MaxPool2D(pool_size=(2, 2)),\n",
        "\n",
        "  Conv2D(128, (3, 3), activation='relu'),\n",
        "  BatchNormalization(),\n",
        "  MaxPool2D(pool_size=(2, 2)),\n",
        "  Dropout(rate=0.2),\n",
        "\n",
        "  Conv2D(256, (3, 3), activation='relu'),\n",
        "  BatchNormalization(),\n",
        "  MaxPool2D(pool_size=(2, 2)),\n",
        "  Dropout(rate=0.2),\n",
        "\n",
        "  Flatten(),\n",
        "  Dense(units=1024, activation='relu'),\n",
        "  Dropout(rate=0.3),\n",
        "\n",
        "  Dense(units=3, activation='softmax') ])\n",
        "\n",
        "  model2.compile(optimizer= keras.optimizers.Adam(lr= 0.0001), loss='categorical_crossentropy', metrics= ['accuracy'])\n",
        "  return model2\n",
        "\n",
        "\n",
        "fold_no=5\n",
        "strkf=StratifiedKFold(n_splits=fold_no, random_state = 11, shuffle = True)\n",
        "\n",
        "X = np.asarray(X)\n",
        "y = np.asarray(y)\n",
        "\n",
        "\n",
        "fold = 1\n",
        "cv_acc= []\n",
        "cv_loss= []\n",
        "\n",
        "for train_index,test_index in strkf.split(X,y):\n",
        "  X_train,X_test=X[train_index],X[test_index]\n",
        "  Y_train,Y_test=y[train_index],y[test_index]\n",
        "\n",
        "\n",
        "  Y_train = to_categorical(Y_train, num_classes = 3)\n",
        "  Y_test = to_categorical(Y_test, num_classes = 3)\n",
        "  models=model_create()\n",
        "  cp = ModelCheckpoint(filepath='basit_model.{epoch:02d}-{val_loss:.2f}.h5',save_weights_only=True)\n",
        "\n",
        "  print(f' fold_no {fold}')\n",
        "\n",
        "  history_cnn = models.fit(\n",
        "            X_train, Y_train, epochs = 5, batch_size = 32, validation_data=(X_test,Y_test),\n",
        "            callbacks = [cp])\n",
        "  #scores = cross_val_score(model, X, y, scoring='accuracy', cv=cv, n_jobs=-1)\n",
        "\n",
        "  models.save(\"/content/drive/MyDrive/Brain_Tumor_MRI_Dataset/basitCNN_kfold\" +str(fold)+ \".h5\")\n",
        "  scores = models.evaluate(X_test, Y_test, verbose=0)\n",
        "  cv_acc.append(scores[1] * 100)\n",
        "  cv_loss.append(scores[0])\n",
        "  fold = fold + 1\n",
        "print('Sonuçlar')\n",
        "for i in range(0, len(cv_acc)):\n",
        "  print(f' Fold {i+1} - Loss: {cv_loss[i]} - Accuracy: %{cv_acc[i]}')\n",
        "print('Ortalama sonuçlar:')\n",
        "print(f' Accuracy: {np.mean(cv_acc)} (+- {np.std(cv_acc)})')\n",
        "print(f' Loss: {np.mean(cv_loss)}')"
      ],
      "metadata": {
        "colab": {
          "base_uri": "https://localhost:8080/"
        },
        "id": "gw_QqqPEDBMW",
        "outputId": "1c0f5c2a-0513-489a-ded6-2b9471037b83"
      },
      "execution_count": null,
      "outputs": [
        {
          "output_type": "stream",
          "name": "stderr",
          "text": [
            "WARNING:absl:`lr` is deprecated in Keras optimizer, please use `learning_rate` or use the legacy optimizer, e.g.,tf.keras.optimizers.legacy.Adam.\n"
          ]
        },
        {
          "output_type": "stream",
          "name": "stdout",
          "text": [
            " fold_no 1\n",
            "Epoch 1/5\n",
            "13/13 [==============================] - 17s 1s/step - loss: 4.1226 - accuracy: 0.5892 - val_loss: 1.3753 - val_accuracy: 0.4078\n",
            "Epoch 2/5\n",
            "13/13 [==============================] - 22s 2s/step - loss: 0.7710 - accuracy: 0.7726 - val_loss: 1.1178 - val_accuracy: 0.3398\n",
            "Epoch 3/5\n",
            "13/13 [==============================] - 17s 1s/step - loss: 0.5104 - accuracy: 0.8289 - val_loss: 1.2506 - val_accuracy: 0.4078\n",
            "Epoch 4/5\n",
            "13/13 [==============================] - 15s 1s/step - loss: 0.3674 - accuracy: 0.8778 - val_loss: 0.9858 - val_accuracy: 0.5631\n",
            "Epoch 5/5\n",
            "13/13 [==============================] - 14s 1s/step - loss: 0.2375 - accuracy: 0.8924 - val_loss: 0.9797 - val_accuracy: 0.4078\n"
          ]
        },
        {
          "output_type": "stream",
          "name": "stderr",
          "text": [
            "/usr/local/lib/python3.10/dist-packages/keras/src/engine/training.py:3103: UserWarning:\n",
            "\n",
            "You are saving your model as an HDF5 file via `model.save()`. This file format is considered legacy. We recommend using instead the native Keras format, e.g. `model.save('my_model.keras')`.\n",
            "\n",
            "WARNING:absl:`lr` is deprecated in Keras optimizer, please use `learning_rate` or use the legacy optimizer, e.g.,tf.keras.optimizers.legacy.Adam.\n"
          ]
        },
        {
          "output_type": "stream",
          "name": "stdout",
          "text": [
            " fold_no 2\n",
            "Epoch 1/5\n",
            "13/13 [==============================] - 18s 1s/step - loss: 2.0550 - accuracy: 0.6235 - val_loss: 1.2851 - val_accuracy: 0.2524\n",
            "Epoch 2/5\n",
            "13/13 [==============================] - 15s 1s/step - loss: 0.6234 - accuracy: 0.7922 - val_loss: 1.1253 - val_accuracy: 0.2621\n",
            "Epoch 3/5\n",
            "13/13 [==============================] - 15s 1s/step - loss: 0.4079 - accuracy: 0.8851 - val_loss: 1.6175 - val_accuracy: 0.4078\n",
            "Epoch 4/5\n",
            "13/13 [==============================] - 15s 1s/step - loss: 0.3520 - accuracy: 0.8949 - val_loss: 0.9352 - val_accuracy: 0.4078\n",
            "Epoch 5/5\n",
            "13/13 [==============================] - 13s 1s/step - loss: 0.2563 - accuracy: 0.9071 - val_loss: 1.5221 - val_accuracy: 0.4078\n"
          ]
        },
        {
          "output_type": "stream",
          "name": "stderr",
          "text": [
            "WARNING:absl:`lr` is deprecated in Keras optimizer, please use `learning_rate` or use the legacy optimizer, e.g.,tf.keras.optimizers.legacy.Adam.\n"
          ]
        },
        {
          "output_type": "stream",
          "name": "stdout",
          "text": [
            " fold_no 3\n",
            "Epoch 1/5\n",
            "13/13 [==============================] - 19s 1s/step - loss: 4.1505 - accuracy: 0.5390 - val_loss: 1.6002 - val_accuracy: 0.2647\n",
            "Epoch 2/5\n",
            "13/13 [==============================] - 14s 1s/step - loss: 0.8483 - accuracy: 0.7561 - val_loss: 1.0214 - val_accuracy: 0.4608\n",
            "Epoch 3/5\n",
            "13/13 [==============================] - 13s 991ms/step - loss: 0.5563 - accuracy: 0.8171 - val_loss: 1.1254 - val_accuracy: 0.4216\n",
            "Epoch 4/5\n",
            "13/13 [==============================] - 14s 1s/step - loss: 0.4011 - accuracy: 0.8561 - val_loss: 0.9816 - val_accuracy: 0.4216\n",
            "Epoch 5/5\n",
            "13/13 [==============================] - 14s 1s/step - loss: 0.2560 - accuracy: 0.8902 - val_loss: 1.4504 - val_accuracy: 0.4216\n"
          ]
        },
        {
          "output_type": "stream",
          "name": "stderr",
          "text": [
            "WARNING:absl:`lr` is deprecated in Keras optimizer, please use `learning_rate` or use the legacy optimizer, e.g.,tf.keras.optimizers.legacy.Adam.\n"
          ]
        },
        {
          "output_type": "stream",
          "name": "stdout",
          "text": [
            " fold_no 4\n",
            "Epoch 1/5\n",
            "13/13 [==============================] - 17s 1s/step - loss: 4.0973 - accuracy: 0.6024 - val_loss: 2.7396 - val_accuracy: 0.3627\n",
            "Epoch 2/5\n",
            "13/13 [==============================] - 15s 1s/step - loss: 0.6390 - accuracy: 0.7780 - val_loss: 4.1408 - val_accuracy: 0.2549\n",
            "Epoch 3/5\n",
            "13/13 [==============================] - 15s 1s/step - loss: 0.5473 - accuracy: 0.8049 - val_loss: 3.0037 - val_accuracy: 0.2549\n",
            "Epoch 4/5\n",
            "13/13 [==============================] - 15s 1s/step - loss: 0.3336 - accuracy: 0.8683 - val_loss: 2.0913 - val_accuracy: 0.2549\n",
            "Epoch 5/5\n",
            "13/13 [==============================] - 15s 1s/step - loss: 0.2056 - accuracy: 0.9122 - val_loss: 1.5030 - val_accuracy: 0.5588\n"
          ]
        },
        {
          "output_type": "stream",
          "name": "stderr",
          "text": [
            "WARNING:absl:`lr` is deprecated in Keras optimizer, please use `learning_rate` or use the legacy optimizer, e.g.,tf.keras.optimizers.legacy.Adam.\n"
          ]
        },
        {
          "output_type": "stream",
          "name": "stdout",
          "text": [
            " fold_no 5\n",
            "Epoch 1/5\n",
            "13/13 [==============================] - 18s 1s/step - loss: 2.4624 - accuracy: 0.6537 - val_loss: 1.7611 - val_accuracy: 0.2549\n",
            "Epoch 2/5\n",
            "13/13 [==============================] - 20s 2s/step - loss: 0.8562 - accuracy: 0.7976 - val_loss: 2.3510 - val_accuracy: 0.2549\n",
            "Epoch 3/5\n",
            "13/13 [==============================] - 15s 1s/step - loss: 0.4827 - accuracy: 0.8585 - val_loss: 2.5502 - val_accuracy: 0.2549\n",
            "Epoch 4/5\n",
            "13/13 [==============================] - 13s 1s/step - loss: 0.4755 - accuracy: 0.8341 - val_loss: 1.9739 - val_accuracy: 0.4118\n",
            "Epoch 5/5\n",
            "13/13 [==============================] - 13s 970ms/step - loss: 0.2175 - accuracy: 0.9049 - val_loss: 1.9113 - val_accuracy: 0.4118\n",
            "Sonuçlar\n",
            " Fold 1 - Loss: 0.9797297120094299 - Accuracy: %40.77669978141785\n",
            " Fold 2 - Loss: 1.5221296548843384 - Accuracy: %40.77669978141785\n",
            " Fold 3 - Loss: 1.4504401683807373 - Accuracy: %42.15686321258545\n",
            " Fold 4 - Loss: 1.5030183792114258 - Accuracy: %55.88235259056091\n",
            " Fold 5 - Loss: 1.9112907648086548 - Accuracy: %41.17647111415863\n",
            "Ortalama sonuçlar:\n",
            " Accuracy: 44.15381729602814 (+- 5.885929008544829)\n",
            " Loss: 1.4733217358589172\n"
          ]
        }
      ]
    },
    {
      "cell_type": "markdown",
      "source": [
        "K-Fold 10 For Resnet4 Model"
      ],
      "metadata": {
        "id": "zJwPGzlDFGMq"
      }
    },
    {
      "cell_type": "code",
      "source": [
        "from keras import layers\n",
        "from keras.preprocessing.image import ImageDataGenerator\n",
        "from keras.callbacks import ReduceLROnPlateau, ModelCheckpoint\n",
        "from keras.models import Model, Sequential\n",
        "from keras.layers import Input, Dense, Flatten, Dropout\n",
        "from keras.layers import Conv2D, MaxPool2D, BatchNormalization\n",
        "from sklearn.model_selection import StratifiedKFold\n",
        "import numpy as np\n",
        "\n",
        "\n"
      ],
      "metadata": {
        "id": "-E53YYrTFL3q"
      },
      "execution_count": null,
      "outputs": []
    },
    {
      "cell_type": "code",
      "source": [
        "def model_create():\n",
        "  model_k10 = Sequential([\n",
        "\n",
        "  Conv2D(16, (3, 3), activation='relu', input_shape=(160, 160, 3)),\n",
        "  MaxPool2D((2, 2)),\n",
        "\n",
        "  Conv2D(32, (3, 3), activation='relu'),\n",
        "  BatchNormalization(),\n",
        "  MaxPool2D(pool_size=(2, 2)),\n",
        "\n",
        "  Conv2D(64, (3, 3), activation='relu'),\n",
        "  BatchNormalization(),\n",
        "  MaxPool2D(pool_size=(2, 2)),\n",
        "\n",
        "  Conv2D(128, (3, 3), activation='relu'),\n",
        "  BatchNormalization(),\n",
        "  MaxPool2D(pool_size=(2, 2)),\n",
        "  Dropout(rate=0.2),\n",
        "\n",
        "  Conv2D(256, (3, 3), activation='relu'),\n",
        "  BatchNormalization(),\n",
        "  MaxPool2D(pool_size=(2, 2)),\n",
        "  Dropout(rate=0.2),\n",
        "\n",
        "  Flatten(),\n",
        "  Dense(units=1024, activation='relu'),\n",
        "  Dropout(rate=0.3),\n",
        "\n",
        "  Dense(units=3, activation='softmax') ])\n",
        "\n",
        "  model_k10.compile(optimizer= keras.optimizers.Adam(lr= 0.0001), loss='categorical_crossentropy', metrics= ['accuracy'])\n",
        "  return model_k10\n",
        "\n",
        "\n",
        "fold_no=10\n",
        "strkf=StratifiedKFold(n_splits=fold_no, random_state = 11, shuffle = True)\n",
        "\n",
        "X = np.asarray(X)\n",
        "y = np.asarray(y)\n",
        "\n",
        "\n",
        "fold = 1\n",
        "cv_acc= []\n",
        "cv_loss= []\n",
        "\n",
        "for train_index,test_index in strkf.split(X,y):\n",
        "  X_train,X_test=X[train_index],X[test_index]\n",
        "  Y_train,Y_test=y[train_index],y[test_index]\n",
        "\n",
        "\n",
        "  Y_train = to_categorical(Y_train, num_classes = 3)\n",
        "  Y_test = to_categorical(Y_test, num_classes = 3)\n",
        "  models=model_create()\n",
        "  cp = ModelCheckpoint(filepath='basit_model.{epoch:02d}-{val_loss:.2f}.h5',save_weights_only=True)\n",
        "\n",
        "  print(f' fold_no {fold}')\n",
        "  history_k10 = models.fit(\n",
        "            X_train, Y_train, epochs = 5, batch_size = 32, validation_data=(X_test,Y_test),\n",
        "            callbacks = [cp])\n",
        "  #scores = cross_val_score(model, X, y, scoring='accuracy', cv=cv, n_jobs=-1)\n",
        "\n",
        "  models.save(\"/content/drive/MyDrive/Brain_Tumor_MRI_Dataset/model_10_kfold\" +str(fold)+ \".h5\")\n",
        "  scores = models.evaluate(X_test, Y_test, verbose=0)\n",
        "  cv_acc.append(scores[1] * 100)\n",
        "  cv_loss.append(scores[0])\n",
        "  fold = fold + 1\n",
        "print('Sonuçlar')\n",
        "for i in range(0, len(cv_acc)):\n",
        "  print(f' Fold {i+1} - Loss: {cv_loss[i]} - Accuracy: %{cv_acc[i]}')\n",
        "print('Ortalama sonuçlar:')\n",
        "print(f' Accuracy: {np.mean(cv_acc)} (+- {np.std(cv_acc)})')\n",
        "print(f' Loss: {np.mean(cv_loss)}')"
      ],
      "metadata": {
        "colab": {
          "base_uri": "https://localhost:8080/"
        },
        "id": "rKWNfQT5Fyu6",
        "outputId": "02c99dfe-ed79-4b10-fcf4-bb1f7742e662"
      },
      "execution_count": null,
      "outputs": [
        {
          "metadata": {
            "tags": null
          },
          "name": "stderr",
          "output_type": "stream",
          "text": [
            "WARNING:absl:`lr` is deprecated in Keras optimizer, please use `learning_rate` or use the legacy optimizer, e.g.,tf.keras.optimizers.legacy.Adam.\n"
          ]
        },
        {
          "output_type": "stream",
          "name": "stdout",
          "text": [
            " fold_no 1\n",
            "Epoch 1/5\n",
            "15/15 [==============================] - 25s 1s/step - loss: 2.9967 - accuracy: 0.6043 - val_loss: 2.2073 - val_accuracy: 0.2500\n",
            "Epoch 2/5\n",
            "15/15 [==============================] - 15s 1s/step - loss: 0.6659 - accuracy: 0.8000 - val_loss: 1.9618 - val_accuracy: 0.2500\n",
            "Epoch 3/5\n",
            "15/15 [==============================] - 22s 2s/step - loss: 0.4434 - accuracy: 0.8587 - val_loss: 1.0506 - val_accuracy: 0.3846\n",
            "Epoch 4/5\n",
            "15/15 [==============================] - 15s 934ms/step - loss: 0.3601 - accuracy: 0.8478 - val_loss: 2.3786 - val_accuracy: 0.2692\n",
            "Epoch 5/5\n",
            "15/15 [==============================] - 15s 955ms/step - loss: 0.3225 - accuracy: 0.9043 - val_loss: 1.3845 - val_accuracy: 0.2500\n"
          ]
        },
        {
          "output_type": "stream",
          "name": "stderr",
          "text": [
            "/usr/local/lib/python3.10/dist-packages/keras/src/engine/training.py:3103: UserWarning:\n",
            "\n",
            "You are saving your model as an HDF5 file via `model.save()`. This file format is considered legacy. We recommend using instead the native Keras format, e.g. `model.save('my_model.keras')`.\n",
            "\n",
            "WARNING:absl:`lr` is deprecated in Keras optimizer, please use `learning_rate` or use the legacy optimizer, e.g.,tf.keras.optimizers.legacy.Adam.\n"
          ]
        },
        {
          "output_type": "stream",
          "name": "stdout",
          "text": [
            " fold_no 2\n",
            "Epoch 1/5\n",
            "15/15 [==============================] - 19s 1s/step - loss: 3.1113 - accuracy: 0.6283 - val_loss: 1.2510 - val_accuracy: 0.3462\n",
            "Epoch 2/5\n",
            "15/15 [==============================] - 15s 1s/step - loss: 0.8943 - accuracy: 0.7587 - val_loss: 1.3980 - val_accuracy: 0.3846\n",
            "Epoch 3/5\n",
            "15/15 [==============================] - 15s 1s/step - loss: 0.4525 - accuracy: 0.8609 - val_loss: 2.4484 - val_accuracy: 0.4038\n",
            "Epoch 4/5\n",
            "15/15 [==============================] - 16s 1s/step - loss: 0.3530 - accuracy: 0.8826 - val_loss: 3.7099 - val_accuracy: 0.4038\n",
            "Epoch 5/5\n",
            "15/15 [==============================] - 15s 1s/step - loss: 0.2301 - accuracy: 0.9043 - val_loss: 3.7595 - val_accuracy: 0.4038\n"
          ]
        },
        {
          "output_type": "stream",
          "name": "stderr",
          "text": [
            "WARNING:absl:`lr` is deprecated in Keras optimizer, please use `learning_rate` or use the legacy optimizer, e.g.,tf.keras.optimizers.legacy.Adam.\n"
          ]
        },
        {
          "output_type": "stream",
          "name": "stdout",
          "text": [
            " fold_no 3\n",
            "Epoch 1/5\n",
            "15/15 [==============================] - 18s 1s/step - loss: 3.3277 - accuracy: 0.5900 - val_loss: 1.1155 - val_accuracy: 0.5098\n",
            "Epoch 2/5\n",
            "15/15 [==============================] - 15s 1s/step - loss: 0.9321 - accuracy: 0.7440 - val_loss: 1.6139 - val_accuracy: 0.4118\n",
            "Epoch 3/5\n",
            "15/15 [==============================] - 15s 1s/step - loss: 0.4048 - accuracy: 0.8395 - val_loss: 1.9612 - val_accuracy: 0.4314\n",
            "Epoch 4/5\n",
            "15/15 [==============================] - 18s 1s/step - loss: 0.3142 - accuracy: 0.8785 - val_loss: 2.5856 - val_accuracy: 0.4314\n",
            "Epoch 5/5\n",
            "15/15 [==============================] - 15s 1s/step - loss: 0.2244 - accuracy: 0.8894 - val_loss: 2.6060 - val_accuracy: 0.4314\n"
          ]
        },
        {
          "output_type": "stream",
          "name": "stderr",
          "text": [
            "WARNING:absl:`lr` is deprecated in Keras optimizer, please use `learning_rate` or use the legacy optimizer, e.g.,tf.keras.optimizers.legacy.Adam.\n"
          ]
        },
        {
          "output_type": "stream",
          "name": "stdout",
          "text": [
            " fold_no 4\n",
            "Epoch 1/5\n",
            "15/15 [==============================] - 19s 1s/step - loss: 2.4788 - accuracy: 0.6486 - val_loss: 1.2869 - val_accuracy: 0.4510\n",
            "Epoch 2/5\n",
            "15/15 [==============================] - 15s 1s/step - loss: 1.0368 - accuracy: 0.7766 - val_loss: 1.4380 - val_accuracy: 0.2745\n",
            "Epoch 3/5\n",
            "15/15 [==============================] - 15s 997ms/step - loss: 0.4739 - accuracy: 0.8351 - val_loss: 1.2388 - val_accuracy: 0.2549\n",
            "Epoch 4/5\n",
            "15/15 [==============================] - 14s 972ms/step - loss: 0.2402 - accuracy: 0.9046 - val_loss: 1.7235 - val_accuracy: 0.2549\n",
            "Epoch 5/5\n",
            "15/15 [==============================] - 14s 937ms/step - loss: 0.2242 - accuracy: 0.9002 - val_loss: 0.9264 - val_accuracy: 0.5882\n"
          ]
        },
        {
          "output_type": "stream",
          "name": "stderr",
          "text": [
            "WARNING:absl:`lr` is deprecated in Keras optimizer, please use `learning_rate` or use the legacy optimizer, e.g.,tf.keras.optimizers.legacy.Adam.\n"
          ]
        },
        {
          "output_type": "stream",
          "name": "stdout",
          "text": [
            " fold_no 5\n",
            "Epoch 1/5\n",
            "15/15 [==============================] - 17s 940ms/step - loss: 3.9085 - accuracy: 0.6009 - val_loss: 1.3637 - val_accuracy: 0.3333\n",
            "Epoch 2/5\n",
            "15/15 [==============================] - 14s 895ms/step - loss: 0.6253 - accuracy: 0.7896 - val_loss: 2.0409 - val_accuracy: 0.2549\n",
            "Epoch 3/5\n",
            "15/15 [==============================] - 14s 918ms/step - loss: 0.5088 - accuracy: 0.8178 - val_loss: 1.8703 - val_accuracy: 0.2549\n",
            "Epoch 4/5\n",
            "15/15 [==============================] - 15s 981ms/step - loss: 0.5200 - accuracy: 0.7874 - val_loss: 1.0982 - val_accuracy: 0.4118\n",
            "Epoch 5/5\n",
            "15/15 [==============================] - 15s 983ms/step - loss: 0.3213 - accuracy: 0.8633 - val_loss: 1.2712 - val_accuracy: 0.3333\n"
          ]
        },
        {
          "output_type": "stream",
          "name": "stderr",
          "text": [
            "WARNING:absl:`lr` is deprecated in Keras optimizer, please use `learning_rate` or use the legacy optimizer, e.g.,tf.keras.optimizers.legacy.Adam.\n"
          ]
        },
        {
          "output_type": "stream",
          "name": "stdout",
          "text": [
            " fold_no 6\n",
            "Epoch 1/5\n",
            "15/15 [==============================] - 17s 993ms/step - loss: 2.4908 - accuracy: 0.6746 - val_loss: 1.1923 - val_accuracy: 0.4118\n",
            "Epoch 2/5\n",
            "15/15 [==============================] - 15s 958ms/step - loss: 0.6726 - accuracy: 0.7983 - val_loss: 1.8593 - val_accuracy: 0.3333\n",
            "Epoch 3/5\n",
            "15/15 [==============================] - 15s 1s/step - loss: 0.3979 - accuracy: 0.8590 - val_loss: 1.5868 - val_accuracy: 0.2549\n",
            "Epoch 4/5\n",
            "15/15 [==============================] - 15s 1s/step - loss: 0.2602 - accuracy: 0.8937 - val_loss: 2.9120 - val_accuracy: 0.2549\n",
            "Epoch 5/5\n",
            "15/15 [==============================] - 15s 1s/step - loss: 0.2800 - accuracy: 0.8980 - val_loss: 1.9252 - val_accuracy: 0.2549\n"
          ]
        },
        {
          "output_type": "stream",
          "name": "stderr",
          "text": [
            "WARNING:absl:`lr` is deprecated in Keras optimizer, please use `learning_rate` or use the legacy optimizer, e.g.,tf.keras.optimizers.legacy.Adam.\n"
          ]
        },
        {
          "output_type": "stream",
          "name": "stdout",
          "text": [
            " fold_no 7\n",
            "Epoch 1/5\n",
            "15/15 [==============================] - 18s 966ms/step - loss: 3.1384 - accuracy: 0.5879 - val_loss: 1.2871 - val_accuracy: 0.2157\n",
            "Epoch 2/5\n",
            "15/15 [==============================] - 15s 953ms/step - loss: 0.7592 - accuracy: 0.7918 - val_loss: 2.3006 - val_accuracy: 0.4118\n",
            "Epoch 3/5\n",
            "15/15 [==============================] - 14s 929ms/step - loss: 0.4118 - accuracy: 0.8525 - val_loss: 2.7746 - val_accuracy: 0.4118\n",
            "Epoch 4/5\n",
            "15/15 [==============================] - 15s 974ms/step - loss: 0.1960 - accuracy: 0.9219 - val_loss: 4.2884 - val_accuracy: 0.4118\n",
            "Epoch 5/5\n",
            "15/15 [==============================] - 14s 928ms/step - loss: 0.1781 - accuracy: 0.9262 - val_loss: 3.1759 - val_accuracy: 0.4118\n"
          ]
        },
        {
          "output_type": "stream",
          "name": "stderr",
          "text": [
            "WARNING:absl:`lr` is deprecated in Keras optimizer, please use `learning_rate` or use the legacy optimizer, e.g.,tf.keras.optimizers.legacy.Adam.\n"
          ]
        },
        {
          "output_type": "stream",
          "name": "stdout",
          "text": [
            " fold_no 8\n",
            "Epoch 1/5\n",
            "15/15 [==============================] - 24s 1s/step - loss: 2.9826 - accuracy: 0.6074 - val_loss: 1.7031 - val_accuracy: 0.2549\n",
            "Epoch 2/5\n",
            "15/15 [==============================] - 15s 1s/step - loss: 0.7400 - accuracy: 0.7744 - val_loss: 1.1173 - val_accuracy: 0.4118\n",
            "Epoch 3/5\n",
            "15/15 [==============================] - 19s 1s/step - loss: 0.5322 - accuracy: 0.7983 - val_loss: 1.0506 - val_accuracy: 0.4118\n",
            "Epoch 4/5\n",
            "15/15 [==============================] - 15s 1s/step - loss: 0.2741 - accuracy: 0.8894 - val_loss: 1.2325 - val_accuracy: 0.4118\n",
            "Epoch 5/5\n",
            "15/15 [==============================] - 15s 1s/step - loss: 0.2797 - accuracy: 0.8915 - val_loss: 1.4716 - val_accuracy: 0.4118\n"
          ]
        },
        {
          "output_type": "stream",
          "name": "stderr",
          "text": [
            "WARNING:absl:`lr` is deprecated in Keras optimizer, please use `learning_rate` or use the legacy optimizer, e.g.,tf.keras.optimizers.legacy.Adam.\n"
          ]
        },
        {
          "output_type": "stream",
          "name": "stdout",
          "text": [
            " fold_no 9\n",
            "Epoch 1/5\n",
            "15/15 [==============================] - 18s 1s/step - loss: 2.4714 - accuracy: 0.5944 - val_loss: 0.7821 - val_accuracy: 0.5686\n",
            "Epoch 2/5\n",
            "15/15 [==============================] - 15s 1s/step - loss: 1.7367 - accuracy: 0.6898 - val_loss: 1.3159 - val_accuracy: 0.3529\n",
            "Epoch 3/5\n",
            "15/15 [==============================] - 15s 1s/step - loss: 0.6722 - accuracy: 0.8265 - val_loss: 1.3112 - val_accuracy: 0.3333\n",
            "Epoch 4/5\n",
            "15/15 [==============================] - 15s 997ms/step - loss: 0.3811 - accuracy: 0.8677 - val_loss: 1.0338 - val_accuracy: 0.4118\n",
            "Epoch 5/5\n",
            "15/15 [==============================] - 15s 1s/step - loss: 0.2202 - accuracy: 0.9111 - val_loss: 2.2231 - val_accuracy: 0.4118\n"
          ]
        },
        {
          "output_type": "stream",
          "name": "stderr",
          "text": [
            "WARNING:absl:`lr` is deprecated in Keras optimizer, please use `learning_rate` or use the legacy optimizer, e.g.,tf.keras.optimizers.legacy.Adam.\n"
          ]
        },
        {
          "output_type": "stream",
          "name": "stdout",
          "text": [
            " fold_no 10\n",
            "Epoch 1/5\n",
            "15/15 [==============================] - 18s 1s/step - loss: 2.4684 - accuracy: 0.6399 - val_loss: 0.9494 - val_accuracy: 0.4314\n",
            "Epoch 2/5\n",
            "15/15 [==============================] - 15s 1s/step - loss: 0.6052 - accuracy: 0.8178 - val_loss: 1.2432 - val_accuracy: 0.3725\n",
            "Epoch 3/5\n",
            "15/15 [==============================] - 15s 989ms/step - loss: 0.3634 - accuracy: 0.8742 - val_loss: 1.0439 - val_accuracy: 0.4902\n",
            "Epoch 4/5\n",
            "15/15 [==============================] - 15s 1s/step - loss: 0.3763 - accuracy: 0.8807 - val_loss: 1.1851 - val_accuracy: 0.3922\n",
            "Epoch 5/5\n",
            "15/15 [==============================] - 15s 987ms/step - loss: 0.3475 - accuracy: 0.8937 - val_loss: 1.4986 - val_accuracy: 0.4118\n",
            "Sonuçlar\n",
            " Fold 1 - Loss: 1.3845245838165283 - Accuracy: %25.0\n",
            " Fold 2 - Loss: 3.7594616413116455 - Accuracy: %40.38461446762085\n",
            " Fold 3 - Loss: 2.605952024459839 - Accuracy: %43.13725531101227\n",
            " Fold 4 - Loss: 0.926388144493103 - Accuracy: %58.82353186607361\n",
            " Fold 5 - Loss: 1.271211862564087 - Accuracy: %33.33333432674408\n",
            " Fold 6 - Loss: 1.9251575469970703 - Accuracy: %25.49019753932953\n",
            " Fold 7 - Loss: 3.175882339477539 - Accuracy: %41.17647111415863\n",
            " Fold 8 - Loss: 1.4715805053710938 - Accuracy: %41.17647111415863\n",
            " Fold 9 - Loss: 2.2230961322784424 - Accuracy: %41.17647111415863\n",
            " Fold 10 - Loss: 1.4986010789871216 - Accuracy: %41.17647111415863\n",
            "Ortalama sonuçlar:\n",
            " Accuracy: 39.087481796741486 (+- 9.17335212532437)\n",
            " Loss: 2.024185585975647\n"
          ]
        }
      ]
    },
    {
      "cell_type": "markdown",
      "source": [
        "K-Fold 5 For EffnetB5 Model"
      ],
      "metadata": {
        "id": "8IitGJACQnrT"
      }
    },
    {
      "cell_type": "code",
      "source": [
        "from keras.applications.efficientnet import EfficientNetB5\n",
        "\n",
        "from keras import layers\n",
        "from keras.models import Sequential\n",
        "\n",
        "def model_create():\n",
        "  model_EffNetB5_1101 = Sequential()\n",
        "  model_EffNetB5_1101.add(EfficientNetB5(weights='imagenet',include_top=False, input_shape=(160,160,3)))\n",
        "  model_EffNetB5_1101.add(layers.GlobalAveragePooling2D())\n",
        "  model_EffNetB5_1101.add(layers.Dropout(0.5))\n",
        "  model_EffNetB5_1101.add(layers.Dense(3,activation = 'softmax'))\n",
        "\n",
        "  model_EffNetB5_1101.compile(optimizer='adam', loss='categorical_crossentropy', metrics= ['accuracy'])\n",
        "  return model_EffNetB5_1101\n",
        "\n",
        "fold_no=5\n",
        "strkf=StratifiedKFold(n_splits=fold_no, random_state = 11, shuffle = True)\n",
        "\n",
        "X = np.asarray(X)\n",
        "y = np.asarray(y)\n",
        "\n",
        "\n",
        "fold = 1\n",
        "cv_acc= []\n",
        "cv_loss= []\n",
        "\n",
        "for train_index,test_index in strkf.split(X,y):\n",
        "  X_train,X_test=X[train_index],X[test_index]\n",
        "  Y_train,Y_test=y[train_index],y[test_index]\n",
        "\n",
        "\n",
        "  Y_train = to_categorical(Y_train, num_classes = 3)\n",
        "  Y_test = to_categorical(Y_test, num_classes = 3)\n",
        "  models=model_create()\n",
        "  cp = ModelCheckpoint(filepath='basit_model.{epoch:02d}-{val_loss:.2f}.h5',save_weights_only=True)\n",
        "\n",
        "  print(f' fold_no {fold}')\n",
        "  history_eff = models.fit(\n",
        "            X_train, Y_train, epochs = 3, batch_size = 32, validation_data=(X_test,Y_test),\n",
        "            callbacks = [cp])\n",
        "\n",
        "  models.save(\"/content/drive/MyDrive/Brain_Tumor_MRI_Dataset/K-folds/k5_effNetB5Model\" +str(fold)+ \".h5\")\n",
        "  scores = models.evaluate(X_test, Y_test, verbose=0)\n",
        "  cv_acc.append(scores[1] * 100)\n",
        "  cv_loss.append(scores[0])\n",
        "  fold = fold + 1\n",
        "print('Sonuçlar')\n",
        "for i in range(0, len(cv_acc)):\n",
        "  print(f' Fold {i+1} - Loss: {cv_loss[i]} - Accuracy: %{cv_acc[i]}')\n",
        "print('Ortalama sonuçlar:')\n",
        "print(f' Accuracy: {np.mean(cv_acc)} (+- {np.std(cv_acc)})')\n",
        "print(f' Loss: {np.mean(cv_loss)}')"
      ],
      "metadata": {
        "colab": {
          "base_uri": "https://localhost:8080/"
        },
        "id": "kEfFSWRIQ2Gd",
        "outputId": "7a841c40-4798-4bd1-e205-47e43733c4bd"
      },
      "execution_count": null,
      "outputs": [
        {
          "output_type": "stream",
          "name": "stdout",
          "text": [
            "Downloading data from https://storage.googleapis.com/keras-applications/efficientnetb5_notop.h5\n",
            "115263384/115263384 [==============================] - 1s 0us/step\n",
            " fold_no 1\n",
            "Epoch 1/3\n",
            "13/13 [==============================] - 349s 21s/step - loss: 0.5307 - accuracy: 0.7726 - val_loss: 1.1897 - val_accuracy: 0.3592\n",
            "Epoch 2/3\n",
            "13/13 [==============================] - 247s 19s/step - loss: 0.1760 - accuracy: 0.9438 - val_loss: 1.5978 - val_accuracy: 0.4078\n",
            "Epoch 3/3\n",
            "13/13 [==============================] - 250s 19s/step - loss: 0.1931 - accuracy: 0.9462 - val_loss: 2.2970 - val_accuracy: 0.4078\n"
          ]
        },
        {
          "output_type": "stream",
          "name": "stderr",
          "text": [
            "/usr/local/lib/python3.10/dist-packages/keras/src/engine/training.py:3103: UserWarning:\n",
            "\n",
            "You are saving your model as an HDF5 file via `model.save()`. This file format is considered legacy. We recommend using instead the native Keras format, e.g. `model.save('my_model.keras')`.\n",
            "\n"
          ]
        },
        {
          "output_type": "stream",
          "name": "stdout",
          "text": [
            " fold_no 2\n",
            "Epoch 1/3\n",
            "13/13 [==============================] - 323s 20s/step - loss: 0.6281 - accuracy: 0.7164 - val_loss: 1.1925 - val_accuracy: 0.4078\n",
            "Epoch 2/3\n",
            "13/13 [==============================] - 252s 19s/step - loss: 0.2714 - accuracy: 0.9169 - val_loss: 1.4945 - val_accuracy: 0.4078\n",
            "Epoch 3/3\n",
            "13/13 [==============================] - 250s 19s/step - loss: 0.1994 - accuracy: 0.9095 - val_loss: 1.1556 - val_accuracy: 0.4078\n",
            " fold_no 3\n",
            "Epoch 1/3\n",
            "13/13 [==============================] - 329s 20s/step - loss: 0.6200 - accuracy: 0.7244 - val_loss: 1.0837 - val_accuracy: 0.4216\n",
            "Epoch 2/3\n",
            "13/13 [==============================] - 264s 20s/step - loss: 0.2894 - accuracy: 0.8878 - val_loss: 1.4853 - val_accuracy: 0.4216\n",
            "Epoch 3/3\n",
            "13/13 [==============================] - 259s 20s/step - loss: 0.2169 - accuracy: 0.9122 - val_loss: 1.3284 - val_accuracy: 0.4216\n",
            " fold_no 4\n",
            "Epoch 1/3\n",
            "13/13 [==============================] - 335s 21s/step - loss: 0.5998 - accuracy: 0.7463 - val_loss: 1.1347 - val_accuracy: 0.3039\n",
            "Epoch 2/3\n",
            " 1/13 [=>............................] - ETA: 3:55 - loss: 0.3298 - accuracy: 0.7500"
          ]
        }
      ]
    },
    {
      "cell_type": "code",
      "source": [
        "from keras.applications.efficientnet import EfficientNetB5\n",
        "\n",
        "from keras import layers\n",
        "from keras.models import Sequential\n",
        "\n",
        "def model_create():\n",
        "  model_EffNetB5_1101 = Sequential()\n",
        "  model_EffNetB5_1101.add(EfficientNetB5(weights='imagenet',include_top=False, input_shape=(160,160,3)))\n",
        "  model_EffNetB5_1101.add(layers.GlobalAveragePooling2D())\n",
        "  model_EffNetB5_1101.add(layers.Dropout(0.5))\n",
        "  model_EffNetB5_1101.add(layers.Dense(4,activation = 'softmax'))\n",
        "\n",
        "  model_EffNetB5_1101.compile(optimizer='adam', loss='categorical_crossentropy', metrics= ['accuracy'])\n",
        "  return model_EffNetB5_1101\n",
        "\n",
        "fold_no=5\n",
        "strkf=StratifiedKFold(n_splits=fold_no, random_state = 11, shuffle = True)\n",
        "\n",
        "X = np.asarray(X)\n",
        "y = np.asarray(y)\n",
        "\n",
        "\n",
        "fold = 1\n",
        "cv_acc= []\n",
        "cv_loss= []\n",
        "\n",
        "for train_index,test_index in strkf.split(X,y):\n",
        "  X_train,X_test=X[train_index],X[test_index]\n",
        "  Y_train,Y_test=y[train_index],y[test_index]\n",
        "\n",
        "\n",
        "  Y_train = to_categorical(Y_train, num_classes = 4)\n",
        "  Y_test = to_categorical(Y_test, num_classes = 4)\n",
        "  models=model_create()\n",
        "  cp = ModelCheckpoint(filepath='basit_model.{epoch:02d}-{val_loss:.2f}.h5',save_weights_only=True)\n",
        "  print(f' fold_no {fold}')\n",
        "\n",
        "  history_eff = models.fit(\n",
        "            X_train, Y_train, epochs = 5, batch_size = 32, validation_data=(X_test,Y_test),\n",
        "            callbacks = [cp])\n",
        "\n",
        "  models.save(\"/content/drive/MyDrive/K-folds/k5_effNetB5Model\" +str(fold)+ \".h5\")\n",
        "  scores = models.evaluate(X_test, Y_test, verbose=0)\n",
        "  cv_acc.append(scores[1] * 100)\n",
        "  cv_loss.append(scores[0])\n",
        "  fold = fold + 1\n",
        "print('Sonuçlar')\n",
        "for i in range(0, len(cv_acc)):\n",
        "  print(f' Fold {i+1} - Loss: {cv_loss[i]} - Accuracy: %{cv_acc[i]}')\n",
        "print('Ortalama sonuçlar:')\n",
        "print(f' Accuracy: {np.mean(cv_acc)} (+- {np.std(cv_acc)})')\n",
        "print(f' Loss: {np.mean(cv_loss)}')"
      ],
      "metadata": {
        "id": "bdw6Wqwj8udC"
      },
      "execution_count": null,
      "outputs": []
    },
    {
      "cell_type": "markdown",
      "source": [
        "Data Augmentation"
      ],
      "metadata": {
        "id": "8HxTkv1-RXls"
      }
    },
    {
      "cell_type": "code",
      "source": [
        "def isCheck_Klasor(path):\n",
        "    if not os.path.isdir(path):\n",
        "        os.mkdir(path)\n",
        "\n",
        "datagen = ImageDataGenerator(\n",
        "rotation_range=180,\n",
        "width_shift_range=0.3,\n",
        "height_shift_range=0.3,\n",
        "shear_range=0.15,\n",
        "zoom_range=0.5,\n",
        "horizontal_flip=True)\n",
        "\n",
        "classes=os.listdir(train)\n",
        "\n",
        "path1='/content/drive/MyDrive/Brain_Tumor_MRI_Dataset/Data_Augmentation/'\n",
        "isCheck_Klasor(path1)\n",
        "\n",
        "for class_name in classes:\n",
        "    save_here = path1+class_name\n",
        "    isCheck_Klasor(save_here)\n",
        "\n",
        "    path2=train+class_name+'/'\n",
        "    files=os.listdir(path2)\n",
        "\n",
        "    for file in files:\n",
        "        image_path = path2+file\n",
        "        image = cv2.imread(image_path)\n",
        "        image = cv2.cvtColor(image, cv2.COLOR_BGR2HSV)\n",
        "        image = cv2.addWeighted (image, 4, cv2.GaussianBlur(image, (0,0), 512/10), -4, 128)\n",
        "        image = np.expand_dims(image, 0)\n",
        "        datagen.fit(image)\n",
        "\n",
        "        if class_name==\"glioma\":\n",
        "            range_value=3\n",
        "        elif class_name==\"meningioma\":\n",
        "            range_value=9\n",
        "        elif class_name==\"notumor\":\n",
        "            range_value=12\n",
        "\n",
        "\n",
        "        for x, val in zip(datagen.flow(image,save_to_dir=save_here,save_prefix='aug',save_format='jpg'),range(range_value)):\n",
        "            pass\n",
        "\n",
        "        print (class_name,file, \" islem bitti...\")"
      ],
      "metadata": {
        "id": "AF7-G2wzRcCd",
        "colab": {
          "base_uri": "https://localhost:8080/",
          "height": 1000
        },
        "outputId": "ccca1e7d-740b-49f6-fbad-dd29ada814af"
      },
      "execution_count": null,
      "outputs": [
        {
          "output_type": "stream",
          "name": "stdout",
          "text": [
            "notumor Tr-no_0585.jpg  islem bitti...\n",
            "notumor Tr-no_0584.jpg  islem bitti...\n",
            "notumor Tr-no_0582.jpg  islem bitti...\n",
            "notumor Tr-no_0586.jpg  islem bitti...\n",
            "notumor Tr-no_0581.jpg  islem bitti...\n",
            "notumor Tr-no_0583.jpg  islem bitti...\n",
            "notumor Tr-no_0617.jpg  islem bitti...\n",
            "notumor Tr-no_0610.jpg  islem bitti...\n",
            "notumor Tr-no_0611.jpg  islem bitti...\n",
            "notumor Tr-no_0619.jpg  islem bitti...\n",
            "notumor Tr-no_0597.jpg  islem bitti...\n",
            "notumor Tr-no_0622.jpg  islem bitti...\n",
            "notumor Tr-no_0593.jpg  islem bitti...\n",
            "notumor Tr-no_0601.jpg  islem bitti...\n",
            "notumor Tr-no_0588.jpg  islem bitti...\n",
            "notumor Tr-no_0596.jpg  islem bitti...\n",
            "notumor Tr-no_0592.jpg  islem bitti...\n",
            "notumor Tr-no_0604.jpg  islem bitti...\n",
            "notumor Tr-no_0589.jpg  islem bitti...\n",
            "notumor Tr-no_0616.jpg  islem bitti...\n",
            "notumor Tr-no_0620.jpg  islem bitti...\n",
            "notumor Tr-no_0599.jpg  islem bitti...\n",
            "notumor Tr-no_0608.jpg  islem bitti...\n",
            "notumor Tr-no_0624.jpg  islem bitti...\n",
            "notumor Tr-no_0612.jpg  islem bitti...\n",
            "notumor Tr-no_0618.jpg  islem bitti...\n",
            "notumor Tr-no_0606.jpg  islem bitti...\n",
            "notumor Tr-no_0629.jpg  islem bitti...\n",
            "notumor Tr-no_0607.jpg  islem bitti...\n",
            "notumor Tr-no_0587.jpg  islem bitti...\n",
            "notumor Tr-no_0613.jpg  islem bitti...\n",
            "notumor Tr-no_0632.jpg  islem bitti...\n",
            "notumor Tr-no_0630.jpg  islem bitti...\n",
            "notumor Tr-no_0615.jpg  islem bitti...\n",
            "notumor Tr-no_0605.jpg  islem bitti...\n",
            "notumor Tr-no_0626.jpg  islem bitti...\n",
            "notumor Tr-no_0591.jpg  islem bitti...\n",
            "notumor Tr-no_0600.jpg  islem bitti...\n",
            "notumor Tr-no_0598.jpg  islem bitti...\n",
            "notumor Tr-no_0602.jpg  islem bitti...\n",
            "notumor Tr-no_0623.jpg  islem bitti...\n",
            "notumor Tr-no_0590.jpg  islem bitti...\n",
            "notumor Tr-no_0603.jpg  islem bitti...\n",
            "notumor Tr-no_0609.jpg  islem bitti...\n",
            "notumor Tr-no_0625.jpg  islem bitti...\n",
            "notumor Tr-no_0595.jpg  islem bitti...\n",
            "notumor Tr-no_0614.jpg  islem bitti...\n",
            "notumor Tr-no_0594.jpg  islem bitti...\n",
            "notumor Tr-no_0631.jpg  islem bitti...\n",
            "notumor Tr-no_0627.jpg  islem bitti...\n",
            "notumor Tr-no_0621.jpg  islem bitti...\n",
            "notumor Tr-no_0628.jpg  islem bitti...\n",
            "notumor Tr-no_0674.jpg  islem bitti...\n",
            "notumor Tr-no_0647.jpg  islem bitti...\n",
            "notumor Tr-no_0675.jpg  islem bitti...\n",
            "notumor Tr-no_0669.jpg  islem bitti...\n",
            "notumor Tr-no_0636.jpg  islem bitti...\n",
            "notumor Tr-no_0639.jpg  islem bitti...\n",
            "notumor Tr-no_0640.jpg  islem bitti...\n",
            "notumor Tr-no_0643.jpg  islem bitti...\n",
            "notumor Tr-no_0653.jpg  islem bitti...\n",
            "notumor Tr-no_0634.jpg  islem bitti...\n",
            "notumor Tr-no_0668.jpg  islem bitti...\n",
            "notumor Tr-no_0660.jpg  islem bitti...\n",
            "notumor Tr-no_0648.jpg  islem bitti...\n",
            "notumor Tr-no_0661.jpg  islem bitti...\n",
            "notumor Tr-no_0651.jpg  islem bitti...\n",
            "notumor Tr-no_0667.jpg  islem bitti...\n",
            "notumor Tr-no_0664.jpg  islem bitti...\n",
            "notumor Tr-no_0673.jpg  islem bitti...\n",
            "notumor Tr-no_0649.jpg  islem bitti...\n",
            "notumor Tr-no_0652.jpg  islem bitti...\n",
            "notumor Tr-no_0641.jpg  islem bitti...\n",
            "notumor Tr-no_0656.jpg  islem bitti...\n",
            "notumor Tr-no_0633.jpg  islem bitti...\n",
            "notumor Tr-no_0676.jpg  islem bitti...\n",
            "notumor Tr-no_0635.jpg  islem bitti...\n",
            "notumor Tr-no_0663.jpg  islem bitti...\n",
            "notumor Tr-no_0665.jpg  islem bitti...\n",
            "notumor Tr-no_0637.jpg  islem bitti...\n",
            "notumor Tr-no_0638.jpg  islem bitti...\n",
            "notumor Tr-no_0654.jpg  islem bitti...\n",
            "notumor Tr-no_0672.jpg  islem bitti...\n",
            "notumor Tr-no_0650.jpg  islem bitti...\n",
            "notumor Tr-no_0671.jpg  islem bitti...\n",
            "notumor Tr-no_0657.jpg  islem bitti...\n",
            "notumor Tr-no_0645.jpg  islem bitti...\n",
            "notumor Tr-no_0659.jpg  islem bitti...\n",
            "notumor Tr-no_0655.jpg  islem bitti...\n",
            "notumor Tr-no_0666.jpg  islem bitti...\n",
            "notumor Tr-no_0642.jpg  islem bitti...\n",
            "notumor Tr-no_0670.jpg  islem bitti...\n",
            "notumor Tr-no_0644.jpg  islem bitti...\n",
            "notumor Tr-no_0662.jpg  islem bitti...\n",
            "notumor Tr-no_0658.jpg  islem bitti...\n",
            "notumor Tr-no_0646.jpg  islem bitti...\n",
            "notumor Tr-no_0708.jpg  islem bitti...\n",
            "notumor Tr-no_0685.jpg  islem bitti...\n",
            "notumor Tr-no_0698.jpg  islem bitti...\n",
            "notumor Tr-no_0677.jpg  islem bitti...\n",
            "notumor Tr-no_0678.jpg  islem bitti...\n",
            "notumor Tr-no_0704.jpg  islem bitti...\n",
            "notumor Tr-no_0718.jpg  islem bitti...\n",
            "notumor Tr-no_0682.jpg  islem bitti...\n",
            "notumor Tr-no_0687.jpg  islem bitti...\n",
            "notumor Tr-no_0691.jpg  islem bitti...\n",
            "notumor Tr-no_0703.jpg  islem bitti...\n",
            "notumor Tr-no_0697.jpg  islem bitti...\n",
            "notumor Tr-no_0712.jpg  islem bitti...\n",
            "notumor Tr-no_0690.jpg  islem bitti...\n",
            "notumor Tr-no_0681.jpg  islem bitti...\n",
            "notumor Tr-no_0709.jpg  islem bitti...\n",
            "notumor Tr-no_0711.jpg  islem bitti...\n",
            "notumor Tr-no_0706.jpg  islem bitti...\n",
            "notumor Tr-no_0719.jpg  islem bitti...\n",
            "notumor Tr-no_0710.jpg  islem bitti...\n",
            "notumor Tr-no_0713.jpg  islem bitti...\n",
            "notumor Tr-no_0695.jpg  islem bitti...\n",
            "notumor Tr-no_0694.jpg  islem bitti...\n",
            "notumor Tr-no_0716.jpg  islem bitti...\n",
            "notumor Tr-no_0721.jpg  islem bitti...\n",
            "notumor Tr-no_0705.jpg  islem bitti...\n",
            "notumor Tr-no_0689.jpg  islem bitti...\n",
            "notumor Tr-no_0699.jpg  islem bitti...\n",
            "notumor Tr-no_0686.jpg  islem bitti...\n",
            "notumor Tr-no_0692.jpg  islem bitti...\n",
            "notumor Tr-no_0700.jpg  islem bitti...\n",
            "notumor Tr-no_0717.jpg  islem bitti...\n",
            "notumor Tr-no_0720.jpg  islem bitti...\n",
            "notumor Tr-no_0707.jpg  islem bitti...\n",
            "notumor Tr-no_0679.jpg  islem bitti...\n",
            "notumor Tr-no_0701.jpg  islem bitti...\n",
            "notumor Tr-no_0714.jpg  islem bitti...\n",
            "notumor Tr-no_0702.jpg  islem bitti...\n",
            "notumor Tr-no_0680.jpg  islem bitti...\n",
            "notumor Tr-no_0688.jpg  islem bitti...\n",
            "notumor Tr-no_0715.jpg  islem bitti...\n",
            "notumor Tr-no_0693.jpg  islem bitti...\n",
            "notumor Tr-no_0683.jpg  islem bitti...\n",
            "notumor Tr-no_0696.jpg  islem bitti...\n",
            "notumor Tr-no_0684.jpg  islem bitti...\n",
            "notumor Tr-no_0756.jpg  islem bitti...\n",
            "notumor Tr-no_0740.jpg  islem bitti...\n",
            "notumor Tr-no_0764.jpg  islem bitti...\n",
            "notumor Tr-no_0767.jpg  islem bitti...\n",
            "notumor Tr-no_0727.jpg  islem bitti...\n",
            "notumor Tr-no_0725.jpg  islem bitti...\n",
            "notumor Tr-no_0763.jpg  islem bitti...\n",
            "notumor Tr-no_0722.jpg  islem bitti...\n",
            "notumor Tr-no_0726.jpg  islem bitti...\n",
            "notumor Tr-no_0748.jpg  islem bitti...\n",
            "notumor Tr-no_0732.jpg  islem bitti...\n",
            "notumor Tr-no_0736.jpg  islem bitti...\n",
            "notumor Tr-no_0730.jpg  islem bitti...\n",
            "notumor Tr-no_0731.jpg  islem bitti...\n",
            "notumor Tr-no_0744.jpg  islem bitti...\n",
            "notumor Tr-no_0761.jpg  islem bitti...\n",
            "notumor Tr-no_0751.jpg  islem bitti...\n",
            "notumor Tr-no_0737.jpg  islem bitti...\n",
            "notumor Tr-no_0749.jpg  islem bitti...\n",
            "notumor Tr-no_0750.jpg  islem bitti...\n",
            "notumor Tr-no_0728.jpg  islem bitti...\n",
            "notumor Tr-no_0742.jpg  islem bitti...\n",
            "notumor Tr-no_0752.jpg  islem bitti...\n",
            "notumor Tr-no_0758.jpg  islem bitti...\n",
            "notumor Tr-no_0738.jpg  islem bitti...\n",
            "notumor Tr-no_0753.jpg  islem bitti...\n"
          ]
        },
        {
          "output_type": "error",
          "ename": "KeyboardInterrupt",
          "evalue": "ignored",
          "traceback": [
            "\u001b[0;31m---------------------------------------------------------------------------\u001b[0m",
            "\u001b[0;31mKeyboardInterrupt\u001b[0m                         Traceback (most recent call last)",
            "\u001b[0;32m<ipython-input-12-d2e49639d35f>\u001b[0m in \u001b[0;36m<cell line: 18>\u001b[0;34m()\u001b[0m\n\u001b[1;32m     27\u001b[0m         \u001b[0mimage\u001b[0m \u001b[0;34m=\u001b[0m \u001b[0mcv2\u001b[0m\u001b[0;34m.\u001b[0m\u001b[0mimread\u001b[0m\u001b[0;34m(\u001b[0m\u001b[0mimage_path\u001b[0m\u001b[0;34m)\u001b[0m\u001b[0;34m\u001b[0m\u001b[0;34m\u001b[0m\u001b[0m\n\u001b[1;32m     28\u001b[0m         \u001b[0mimage\u001b[0m \u001b[0;34m=\u001b[0m \u001b[0mcv2\u001b[0m\u001b[0;34m.\u001b[0m\u001b[0mcvtColor\u001b[0m\u001b[0;34m(\u001b[0m\u001b[0mimage\u001b[0m\u001b[0;34m,\u001b[0m \u001b[0mcv2\u001b[0m\u001b[0;34m.\u001b[0m\u001b[0mCOLOR_BGR2HSV\u001b[0m\u001b[0;34m)\u001b[0m\u001b[0;34m\u001b[0m\u001b[0;34m\u001b[0m\u001b[0m\n\u001b[0;32m---> 29\u001b[0;31m         \u001b[0mimage\u001b[0m \u001b[0;34m=\u001b[0m \u001b[0mcv2\u001b[0m\u001b[0;34m.\u001b[0m\u001b[0maddWeighted\u001b[0m \u001b[0;34m(\u001b[0m\u001b[0mimage\u001b[0m\u001b[0;34m,\u001b[0m \u001b[0;36m4\u001b[0m\u001b[0;34m,\u001b[0m \u001b[0mcv2\u001b[0m\u001b[0;34m.\u001b[0m\u001b[0mGaussianBlur\u001b[0m\u001b[0;34m(\u001b[0m\u001b[0mimage\u001b[0m\u001b[0;34m,\u001b[0m \u001b[0;34m(\u001b[0m\u001b[0;36m0\u001b[0m\u001b[0;34m,\u001b[0m\u001b[0;36m0\u001b[0m\u001b[0;34m)\u001b[0m\u001b[0;34m,\u001b[0m \u001b[0;36m512\u001b[0m\u001b[0;34m/\u001b[0m\u001b[0;36m10\u001b[0m\u001b[0;34m)\u001b[0m\u001b[0;34m,\u001b[0m \u001b[0;34m-\u001b[0m\u001b[0;36m4\u001b[0m\u001b[0;34m,\u001b[0m \u001b[0;36m128\u001b[0m\u001b[0;34m)\u001b[0m\u001b[0;34m\u001b[0m\u001b[0;34m\u001b[0m\u001b[0m\n\u001b[0m\u001b[1;32m     30\u001b[0m         \u001b[0mimage\u001b[0m \u001b[0;34m=\u001b[0m \u001b[0mnp\u001b[0m\u001b[0;34m.\u001b[0m\u001b[0mexpand_dims\u001b[0m\u001b[0;34m(\u001b[0m\u001b[0mimage\u001b[0m\u001b[0;34m,\u001b[0m \u001b[0;36m0\u001b[0m\u001b[0;34m)\u001b[0m\u001b[0;34m\u001b[0m\u001b[0;34m\u001b[0m\u001b[0m\n\u001b[1;32m     31\u001b[0m         \u001b[0mdatagen\u001b[0m\u001b[0;34m.\u001b[0m\u001b[0mfit\u001b[0m\u001b[0;34m(\u001b[0m\u001b[0mimage\u001b[0m\u001b[0;34m)\u001b[0m\u001b[0;34m\u001b[0m\u001b[0;34m\u001b[0m\u001b[0m\n",
            "\u001b[0;31mKeyboardInterrupt\u001b[0m: "
          ]
        }
      ]
    },
    {
      "cell_type": "markdown",
      "source": [
        "Classifiers"
      ],
      "metadata": {
        "id": "mHyyItTF0n0Y"
      }
    },
    {
      "cell_type": "code",
      "source": [
        "X_train = []\n",
        "y_train = []\n",
        "code = {'glioma':0 ,'meningioma':1,'notumor':2 }\n",
        "for folder in  os.listdir(train) :\n",
        "    files = glob.glob(pathname= str( train + folder + '/*.jpg'))\n",
        "    for file in files:\n",
        "        image = cv2.imread(file)\n",
        "        #resize images to 64 x 64 pixels\n",
        "        image_array = cv2.resize(image , (160,160))\n",
        "        X_train.append(list(image_array))\n",
        "        y_train.append(code[folder])\n",
        "np.save('X_train',X_train)\n",
        "np.save('y_train',y_train)\n",
        "\n",
        "X_test = []\n",
        "y_test = []\n",
        "for folder in  os.listdir(test) :\n",
        "    files = glob.glob(pathname= str( test + folder + '/*.jpg'))\n",
        "    for file in files:\n",
        "        image = cv2.imread(file)\n",
        "        image_array = cv2.resize(image , (160,160))\n",
        "        X_test.append(list(image_array))\n",
        "        y_test.append(code[folder])\n",
        "np.save('X_test',X_test)\n",
        "np.save('y_test',y_test)"
      ],
      "metadata": {
        "id": "Y8RrYkZ50pUU"
      },
      "execution_count": null,
      "outputs": []
    },
    {
      "cell_type": "code",
      "source": [
        "loaded_X_train = np.load('./X_train.npy')\n",
        "loaded_X_test = np.load('./X_test.npy')\n",
        "loaded_y_train = np.load('./y_train.npy')\n",
        "loaded_y_test = np.load('./y_test.npy')\n",
        "\n",
        "X_train = loaded_X_train.reshape([-1, np.product((160,160,3))])\n",
        "X_test = loaded_X_test.reshape([-1, np.product((160,160,3))])\n",
        "y_train = loaded_y_train\n",
        "y_test = loaded_y_test\n",
        "X_train, y_train = shf(X_train, y_train, random_state=15)\n",
        "X_test, y_test = shf(X_test, y_test, random_state=15)"
      ],
      "metadata": {
        "id": "17nl4OLg0yCY"
      },
      "execution_count": null,
      "outputs": []
    },
    {
      "cell_type": "code",
      "source": [
        "knn = KNeighborsClassifier(n_neighbors=10)\n",
        "log_reg  = LogisticRegression(solver='lbfgs', max_iter=100)\n",
        "dtc  = DecisionTreeClassifier()\n",
        "rfc = RandomForestClassifier(max_depth=2, random_state=0)\n",
        "svm = SVC()"
      ],
      "metadata": {
        "id": "t_ipnslG1FAW"
      },
      "execution_count": null,
      "outputs": []
    },
    {
      "cell_type": "code",
      "source": [
        "knn.fit(X_train, y_train)\n",
        "log_reg.fit(X_train, y_train)\n",
        "# dtc.fit(X_train, y_train)\n",
        "# rfc.fit(X_train, y_train)\n",
        "svm.fit(X_train, y_train)"
      ],
      "metadata": {
        "colab": {
          "base_uri": "https://localhost:8080/",
          "height": 248
        },
        "id": "NVV3FAcM1HW6",
        "outputId": "b42364bb-f153-4182-ca2f-8f7f1868213e"
      },
      "execution_count": null,
      "outputs": [
        {
          "output_type": "stream",
          "name": "stderr",
          "text": [
            "/usr/local/lib/python3.10/dist-packages/sklearn/linear_model/_logistic.py:458: ConvergenceWarning:\n",
            "\n",
            "lbfgs failed to converge (status=1):\n",
            "STOP: TOTAL NO. of ITERATIONS REACHED LIMIT.\n",
            "\n",
            "Increase the number of iterations (max_iter) or scale the data as shown in:\n",
            "    https://scikit-learn.org/stable/modules/preprocessing.html\n",
            "Please also refer to the documentation for alternative solver options:\n",
            "    https://scikit-learn.org/stable/modules/linear_model.html#logistic-regression\n",
            "\n"
          ]
        },
        {
          "output_type": "execute_result",
          "data": {
            "text/plain": [
              "SVC()"
            ],
            "text/html": [
              "<style>#sk-container-id-1 {color: black;background-color: white;}#sk-container-id-1 pre{padding: 0;}#sk-container-id-1 div.sk-toggleable {background-color: white;}#sk-container-id-1 label.sk-toggleable__label {cursor: pointer;display: block;width: 100%;margin-bottom: 0;padding: 0.3em;box-sizing: border-box;text-align: center;}#sk-container-id-1 label.sk-toggleable__label-arrow:before {content: \"▸\";float: left;margin-right: 0.25em;color: #696969;}#sk-container-id-1 label.sk-toggleable__label-arrow:hover:before {color: black;}#sk-container-id-1 div.sk-estimator:hover label.sk-toggleable__label-arrow:before {color: black;}#sk-container-id-1 div.sk-toggleable__content {max-height: 0;max-width: 0;overflow: hidden;text-align: left;background-color: #f0f8ff;}#sk-container-id-1 div.sk-toggleable__content pre {margin: 0.2em;color: black;border-radius: 0.25em;background-color: #f0f8ff;}#sk-container-id-1 input.sk-toggleable__control:checked~div.sk-toggleable__content {max-height: 200px;max-width: 100%;overflow: auto;}#sk-container-id-1 input.sk-toggleable__control:checked~label.sk-toggleable__label-arrow:before {content: \"▾\";}#sk-container-id-1 div.sk-estimator input.sk-toggleable__control:checked~label.sk-toggleable__label {background-color: #d4ebff;}#sk-container-id-1 div.sk-label input.sk-toggleable__control:checked~label.sk-toggleable__label {background-color: #d4ebff;}#sk-container-id-1 input.sk-hidden--visually {border: 0;clip: rect(1px 1px 1px 1px);clip: rect(1px, 1px, 1px, 1px);height: 1px;margin: -1px;overflow: hidden;padding: 0;position: absolute;width: 1px;}#sk-container-id-1 div.sk-estimator {font-family: monospace;background-color: #f0f8ff;border: 1px dotted black;border-radius: 0.25em;box-sizing: border-box;margin-bottom: 0.5em;}#sk-container-id-1 div.sk-estimator:hover {background-color: #d4ebff;}#sk-container-id-1 div.sk-parallel-item::after {content: \"\";width: 100%;border-bottom: 1px solid gray;flex-grow: 1;}#sk-container-id-1 div.sk-label:hover label.sk-toggleable__label {background-color: #d4ebff;}#sk-container-id-1 div.sk-serial::before {content: \"\";position: absolute;border-left: 1px solid gray;box-sizing: border-box;top: 0;bottom: 0;left: 50%;z-index: 0;}#sk-container-id-1 div.sk-serial {display: flex;flex-direction: column;align-items: center;background-color: white;padding-right: 0.2em;padding-left: 0.2em;position: relative;}#sk-container-id-1 div.sk-item {position: relative;z-index: 1;}#sk-container-id-1 div.sk-parallel {display: flex;align-items: stretch;justify-content: center;background-color: white;position: relative;}#sk-container-id-1 div.sk-item::before, #sk-container-id-1 div.sk-parallel-item::before {content: \"\";position: absolute;border-left: 1px solid gray;box-sizing: border-box;top: 0;bottom: 0;left: 50%;z-index: -1;}#sk-container-id-1 div.sk-parallel-item {display: flex;flex-direction: column;z-index: 1;position: relative;background-color: white;}#sk-container-id-1 div.sk-parallel-item:first-child::after {align-self: flex-end;width: 50%;}#sk-container-id-1 div.sk-parallel-item:last-child::after {align-self: flex-start;width: 50%;}#sk-container-id-1 div.sk-parallel-item:only-child::after {width: 0;}#sk-container-id-1 div.sk-dashed-wrapped {border: 1px dashed gray;margin: 0 0.4em 0.5em 0.4em;box-sizing: border-box;padding-bottom: 0.4em;background-color: white;}#sk-container-id-1 div.sk-label label {font-family: monospace;font-weight: bold;display: inline-block;line-height: 1.2em;}#sk-container-id-1 div.sk-label-container {text-align: center;}#sk-container-id-1 div.sk-container {/* jupyter's `normalize.less` sets `[hidden] { display: none; }` but bootstrap.min.css set `[hidden] { display: none !important; }` so we also need the `!important` here to be able to override the default hidden behavior on the sphinx rendered scikit-learn.org. See: https://github.com/scikit-learn/scikit-learn/issues/21755 */display: inline-block !important;position: relative;}#sk-container-id-1 div.sk-text-repr-fallback {display: none;}</style><div id=\"sk-container-id-1\" class=\"sk-top-container\"><div class=\"sk-text-repr-fallback\"><pre>SVC()</pre><b>In a Jupyter environment, please rerun this cell to show the HTML representation or trust the notebook. <br />On GitHub, the HTML representation is unable to render, please try loading this page with nbviewer.org.</b></div><div class=\"sk-container\" hidden><div class=\"sk-item\"><div class=\"sk-estimator sk-toggleable\"><input class=\"sk-toggleable__control sk-hidden--visually\" id=\"sk-estimator-id-1\" type=\"checkbox\" checked><label for=\"sk-estimator-id-1\" class=\"sk-toggleable__label sk-toggleable__label-arrow\">SVC</label><div class=\"sk-toggleable__content\"><pre>SVC()</pre></div></div></div></div></div>"
            ]
          },
          "metadata": {},
          "execution_count": 16
        }
      ]
    },
    {
      "cell_type": "code",
      "source": [
        "knn_predcited = knn.predict(X_test)\n",
        "log_reg_predcited = log_reg.predict(X_test)\n",
        "# dtc_predcited = dtc.predict(X_test)\n",
        "# rfc_predcited = rfc.predict(X_test)\n",
        "# svm_predcited = svm.predict(X_test)"
      ],
      "metadata": {
        "id": "dZeAJXwT1MAy"
      },
      "execution_count": null,
      "outputs": []
    },
    {
      "cell_type": "code",
      "source": [
        "def plot_cm(predictions, y_test, title):\n",
        "  labels = ['glioma', 'meningioma', 'notumor']\n",
        "  cm = confusion_matrix(y_test,predictions)\n",
        "  cm = pd.DataFrame(cm , index = ['0','1','2'] , columns = ['0','1','2'])\n",
        "  plt.figure(figsize = (7,7))\n",
        "  plt.title(title)\n",
        "  sns.heatmap(cm, linecolor = 'black' , linewidth = 1 , annot = True, fmt='', xticklabels = labels, yticklabels = labels)\n",
        "  plt.show()"
      ],
      "metadata": {
        "id": "CEqNI4HY1RNi"
      },
      "execution_count": null,
      "outputs": []
    },
    {
      "cell_type": "code",
      "source": [
        "plot_cm(knn_predcited, y_test, 'KNN Confusion Matrix')\n",
        "\n",
        "plot_cm(log_reg_predcited, y_test, 'Logistic Regression Confusion Matrix')\n",
        "# plot_cm(dtc_predcited, y_test, 'Decision Tree Confusion Matrix')\n",
        "\n",
        "# plot_cm(rfc_predcited, y_test, 'Random Forests Confusion Matrix')\n",
        "\n",
        "# plot_cm(svm_predcited, y_test, 'Support Vector Machine Confusion Matrix')"
      ],
      "metadata": {
        "colab": {
          "base_uri": "https://localhost:8080/",
          "height": 1000
        },
        "id": "GQs-_cqp1VTj",
        "outputId": "efe01949-1515-41fa-bb3d-a918270e9818"
      },
      "execution_count": null,
      "outputs": [
        {
          "output_type": "display_data",
          "data": {
            "text/plain": [
              "<Figure size 700x700 with 2 Axes>"
            ],
            "image/png": "[encoded data removed]"
          },
          "metadata": {}
        },
        {
          "output_type": "display_data",
          "data": {
            "text/plain": [
              "<Figure size 700x700 with 2 Axes>"
            ],
            "image/png": "[encoded data removed]"
          },
          "metadata": {}
        }
      ]
    }
  ]
}